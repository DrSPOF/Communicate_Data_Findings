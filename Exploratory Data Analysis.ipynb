{
 "cells": [
  {
   "cell_type": "markdown",
   "metadata": {},
   "source": [
    "# Data Visualisation GoFordBike Trip Data \n",
    "\n",
    "## Table of Contents\n",
    "<ul>\n",
    "<li><a href=\"#intro\">Introduction</a></li>   \n",
    "<li><a href=\"#gathering\">Gathering data</a></li>\n",
    "<li><a href=\"#assess\">Assessing data</a></li>\n",
    "<li><a href=\"#qual\">Quality & Tidiness</a></li>\n",
    "<li><a href=\"#clean\">Clean & Test</a></li>\n",
    "<li><a href=\"#analyse\">Analyse & Visualise</a></li>\n",
    "\n"
   ]
  },
  {
   "cell_type": "markdown",
   "metadata": {},
   "source": [
    "<a id='intro'></a>\n",
    "## Intro\n",
    "\n",
    "This workbook explores a dataset from GoFordBike for Boston and Washington for the period Dec 2019 - Nov 2020. The data set includes data relating to stations, dates, duration and city and has these details for a total of 4+ milion trips. "
   ]
  },
  {
   "cell_type": "markdown",
   "metadata": {},
   "source": [
    "### Load libraries"
   ]
  },
  {
   "cell_type": "code",
   "execution_count": 1,
   "metadata": {},
   "outputs": [],
   "source": [
    "# import all packages \n",
    "import numpy as np\n",
    "import pandas as pd\n",
    "import matplotlib.pyplot as plt\n",
    "import seaborn as sns\n",
    "\n",
    "%matplotlib inline\n",
    "\n",
    "import os\n",
    "import requests\n",
    "from io import BytesIO\n",
    "from zipfile import ZipFile\n",
    "\n",
    "import datetime\n",
    "import calendar\n",
    "\n"
   ]
  },
  {
   "cell_type": "markdown",
   "metadata": {},
   "source": [
    "<a id='gathering'></a>\n",
    "## Gathering Data\n",
    "### Download last available 12 months of data from Boston and Washington\n"
   ]
  },
  {
   "cell_type": "code",
   "execution_count": 45,
   "metadata": {},
   "outputs": [],
   "source": [
    "#Boston (bluebikes)\n",
    "os.makedirs('master_data/boston')\n",
    "urlsb = ['https://s3.amazonaws.com/hubway-data/202011-bluebikes-tripdata.zip',\n",
    "         'https://s3.amazonaws.com/hubway-data/202010-bluebikes-tripdata.zip',\n",
    "         'https://s3.amazonaws.com/hubway-data/202009-bluebikes-tripdata.zip',\n",
    "         'https://s3.amazonaws.com/hubway-data/202008-bluebikes-tripdata.zip',\n",
    "         'https://s3.amazonaws.com/hubway-data/202007-bluebikes-tripdata.zip',\n",
    "         'https://s3.amazonaws.com/hubway-data/202006-bluebikes-tripdata.zip',\n",
    "         'https://s3.amazonaws.com/hubway-data/202005-bluebikes-tripdata.zip',\n",
    "         'https://s3.amazonaws.com/hubway-data/202004-bluebikes-tripdata.zip',\n",
    "         'https://s3.amazonaws.com/hubway-data/202003-bluebikes-tripdata.zip',\n",
    "         'https://s3.amazonaws.com/hubway-data/202002-bluebikes-tripdata.zip',\n",
    "         'https://s3.amazonaws.com/hubway-data/202001-bluebikes-tripdata.zip',\n",
    "         'https://s3.amazonaws.com/hubway-data/201912-bluebikes-tripdata.zip',]\n",
    "\n",
    "for url in urlsb:\n",
    "    response = requests.get(url)\n",
    "    zip_file = ZipFile(BytesIO(response.content))\n",
    "    zip_file.extractall('master_data/boston')"
   ]
  },
  {
   "cell_type": "code",
   "execution_count": 46,
   "metadata": {},
   "outputs": [],
   "source": [
    "#Washington (capitalbikeshare)\n",
    "os.makedirs('master_data/washington')\n",
    "urlsw = ['https://s3.amazonaws.com/capitalbikeshare-data/202011-capitalbikeshare-tripdata.zip',\n",
    "        'https://s3.amazonaws.com/capitalbikeshare-data/202010-capitalbikeshare-tripdata.zip',\n",
    "        'https://s3.amazonaws.com/capitalbikeshare-data/202009-capitalbikeshare-tripdata.zip',\n",
    "        'https://s3.amazonaws.com/capitalbikeshare-data/202008-capitalbikeshare-tripdata.zip',\n",
    "        'https://s3.amazonaws.com/capitalbikeshare-data/202007-capitalbikeshare-tripdata.zip',\n",
    "        'https://s3.amazonaws.com/capitalbikeshare-data/202006-capitalbikeshare-tripdata.zip',\n",
    "        'https://s3.amazonaws.com/capitalbikeshare-data/202005-capitalbikeshare-tripdata.zip',\n",
    "        'https://s3.amazonaws.com/capitalbikeshare-data/202004-capitalbikeshare-tripdata.zip',\n",
    "        'https://s3.amazonaws.com/capitalbikeshare-data/202003-capitalbikeshare-tripdata.zip',\n",
    "        'https://s3.amazonaws.com/capitalbikeshare-data/202002-capitalbikeshare-tripdata.zip',\n",
    "        'https://s3.amazonaws.com/capitalbikeshare-data/202001-capitalbikeshare-tripdata.zip',\n",
    "        'https://s3.amazonaws.com/capitalbikeshare-data/201912-capitalbikeshare-tripdata.zip',]\n",
    "\n",
    "for url in urlsw:\n",
    "    response = requests.get(url)\n",
    "    zip_file = ZipFile(BytesIO(response.content))\n",
    "    zip_file.extractall('master_data/washington')    "
   ]
  },
  {
   "cell_type": "code",
   "execution_count": 50,
   "metadata": {},
   "outputs": [],
   "source": [
    "#Create a DataFrame for Boston\n",
    "import glob\n",
    "df_b = pd.concat([pd.read_csv(f, engine='python') for f in glob.glob(\"master_data/boston\"+\"/*.csv\")], ignore_index=True)"
   ]
  },
  {
   "cell_type": "code",
   "execution_count": 54,
   "metadata": {},
   "outputs": [],
   "source": [
    "df_b.to_csv('master_data/boston_master.csv', index=False)"
   ]
  },
  {
   "cell_type": "code",
   "execution_count": 55,
   "metadata": {},
   "outputs": [],
   "source": [
    "#Create a DataFrame for Washington\n",
    "df_w = pd.concat([pd.read_csv(f, engine='python') for f in glob.glob(\"master_data/washington\"+\"/*.csv\")], ignore_index=True)"
   ]
  },
  {
   "cell_type": "code",
   "execution_count": 60,
   "metadata": {},
   "outputs": [],
   "source": [
    "df_w.to_csv('master_data/washington_master.csv', index=False)"
   ]
  },
  {
   "cell_type": "markdown",
   "metadata": {},
   "source": [
    "<a id='assess'></a>\n",
    "# Assessing Data"
   ]
  },
  {
   "cell_type": "code",
   "execution_count": 2,
   "metadata": {},
   "outputs": [
    {
     "data": {
      "text/html": [
       "<div>\n",
       "<style scoped>\n",
       "    .dataframe tbody tr th:only-of-type {\n",
       "        vertical-align: middle;\n",
       "    }\n",
       "\n",
       "    .dataframe tbody tr th {\n",
       "        vertical-align: top;\n",
       "    }\n",
       "\n",
       "    .dataframe thead th {\n",
       "        text-align: right;\n",
       "    }\n",
       "</style>\n",
       "<table border=\"1\" class=\"dataframe\">\n",
       "  <thead>\n",
       "    <tr style=\"text-align: right;\">\n",
       "      <th></th>\n",
       "      <th>tripduration</th>\n",
       "      <th>starttime</th>\n",
       "      <th>stoptime</th>\n",
       "      <th>start station id</th>\n",
       "      <th>start station name</th>\n",
       "      <th>start station latitude</th>\n",
       "      <th>start station longitude</th>\n",
       "      <th>end station id</th>\n",
       "      <th>end station name</th>\n",
       "      <th>end station latitude</th>\n",
       "      <th>end station longitude</th>\n",
       "      <th>bikeid</th>\n",
       "      <th>usertype</th>\n",
       "      <th>birth year</th>\n",
       "      <th>gender</th>\n",
       "      <th>postal code</th>\n",
       "    </tr>\n",
       "  </thead>\n",
       "  <tbody>\n",
       "    <tr>\n",
       "      <th>0</th>\n",
       "      <td>790</td>\n",
       "      <td>2019-12-01 00:01:25.3240</td>\n",
       "      <td>2019-12-01 00:14:35.3350</td>\n",
       "      <td>370</td>\n",
       "      <td>Dartmouth St at Newbury St</td>\n",
       "      <td>42.350961</td>\n",
       "      <td>-71.077828</td>\n",
       "      <td>33</td>\n",
       "      <td>Kenmore Square</td>\n",
       "      <td>42.348706</td>\n",
       "      <td>-71.097009</td>\n",
       "      <td>5133</td>\n",
       "      <td>Subscriber</td>\n",
       "      <td>1950.0</td>\n",
       "      <td>1.0</td>\n",
       "      <td>NaN</td>\n",
       "    </tr>\n",
       "    <tr>\n",
       "      <th>1</th>\n",
       "      <td>166</td>\n",
       "      <td>2019-12-01 00:05:42.8610</td>\n",
       "      <td>2019-12-01 00:08:29.3830</td>\n",
       "      <td>80</td>\n",
       "      <td>MIT Stata Center at Vassar St / Main St</td>\n",
       "      <td>42.362131</td>\n",
       "      <td>-71.091156</td>\n",
       "      <td>67</td>\n",
       "      <td>MIT at Mass Ave / Amherst St</td>\n",
       "      <td>42.358100</td>\n",
       "      <td>-71.093198</td>\n",
       "      <td>2653</td>\n",
       "      <td>Subscriber</td>\n",
       "      <td>1993.0</td>\n",
       "      <td>1.0</td>\n",
       "      <td>NaN</td>\n",
       "    </tr>\n",
       "  </tbody>\n",
       "</table>\n",
       "</div>"
      ],
      "text/plain": [
       "   tripduration                 starttime                  stoptime  \\\n",
       "0           790  2019-12-01 00:01:25.3240  2019-12-01 00:14:35.3350   \n",
       "1           166  2019-12-01 00:05:42.8610  2019-12-01 00:08:29.3830   \n",
       "\n",
       "   start station id                       start station name  \\\n",
       "0               370               Dartmouth St at Newbury St   \n",
       "1                80  MIT Stata Center at Vassar St / Main St   \n",
       "\n",
       "   start station latitude  start station longitude  end station id  \\\n",
       "0               42.350961               -71.077828              33   \n",
       "1               42.362131               -71.091156              67   \n",
       "\n",
       "               end station name  end station latitude  end station longitude  \\\n",
       "0                Kenmore Square             42.348706             -71.097009   \n",
       "1  MIT at Mass Ave / Amherst St             42.358100             -71.093198   \n",
       "\n",
       "   bikeid    usertype  birth year  gender postal code  \n",
       "0    5133  Subscriber      1950.0     1.0         NaN  \n",
       "1    2653  Subscriber      1993.0     1.0         NaN  "
      ]
     },
     "execution_count": 2,
     "metadata": {},
     "output_type": "execute_result"
    }
   ],
   "source": [
    "#Read data back in:\n",
    "boston = pd.read_csv('master_data/boston_master.csv', low_memory=False)\n",
    "boston.head(2)"
   ]
  },
  {
   "cell_type": "code",
   "execution_count": 3,
   "metadata": {},
   "outputs": [
    {
     "name": "stdout",
     "output_type": "stream",
     "text": [
      "<class 'pandas.core.frame.DataFrame'>\n",
      "RangeIndex: 2091654 entries, 0 to 2091653\n",
      "Data columns (total 16 columns):\n",
      " #   Column                   Dtype  \n",
      "---  ------                   -----  \n",
      " 0   tripduration             int64  \n",
      " 1   starttime                object \n",
      " 2   stoptime                 object \n",
      " 3   start station id         int64  \n",
      " 4   start station name       object \n",
      " 5   start station latitude   float64\n",
      " 6   start station longitude  float64\n",
      " 7   end station id           int64  \n",
      " 8   end station name         object \n",
      " 9   end station latitude     float64\n",
      " 10  end station longitude    float64\n",
      " 11  bikeid                   int64  \n",
      " 12  usertype                 object \n",
      " 13  birth year               float64\n",
      " 14  gender                   float64\n",
      " 15  postal code              object \n",
      "dtypes: float64(6), int64(4), object(6)\n",
      "memory usage: 255.3+ MB\n"
     ]
    }
   ],
   "source": [
    "boston.info()"
   ]
  },
  {
   "cell_type": "code",
   "execution_count": 4,
   "metadata": {},
   "outputs": [
    {
     "data": {
      "text/html": [
       "<div>\n",
       "<style scoped>\n",
       "    .dataframe tbody tr th:only-of-type {\n",
       "        vertical-align: middle;\n",
       "    }\n",
       "\n",
       "    .dataframe tbody tr th {\n",
       "        vertical-align: top;\n",
       "    }\n",
       "\n",
       "    .dataframe thead th {\n",
       "        text-align: right;\n",
       "    }\n",
       "</style>\n",
       "<table border=\"1\" class=\"dataframe\">\n",
       "  <thead>\n",
       "    <tr style=\"text-align: right;\">\n",
       "      <th></th>\n",
       "      <th>Duration</th>\n",
       "      <th>Start date</th>\n",
       "      <th>End date</th>\n",
       "      <th>Start station number</th>\n",
       "      <th>Start station</th>\n",
       "      <th>End station number</th>\n",
       "      <th>End station</th>\n",
       "      <th>Bike number</th>\n",
       "      <th>Member type</th>\n",
       "      <th>ride_id</th>\n",
       "      <th>...</th>\n",
       "      <th>start_station_name</th>\n",
       "      <th>start_station_id</th>\n",
       "      <th>end_station_name</th>\n",
       "      <th>end_station_id</th>\n",
       "      <th>start_lat</th>\n",
       "      <th>start_lng</th>\n",
       "      <th>end_lat</th>\n",
       "      <th>end_lng</th>\n",
       "      <th>member_casual</th>\n",
       "      <th>is_equity</th>\n",
       "    </tr>\n",
       "  </thead>\n",
       "  <tbody>\n",
       "    <tr>\n",
       "      <th>0</th>\n",
       "      <td>163.0</td>\n",
       "      <td>2019-12-01 00:00:25</td>\n",
       "      <td>2019-12-01 00:03:08</td>\n",
       "      <td>31609.0</td>\n",
       "      <td>Maine Ave &amp; 7th St SW</td>\n",
       "      <td>31294.0</td>\n",
       "      <td>7th &amp; E St SW</td>\n",
       "      <td>W21186</td>\n",
       "      <td>Member</td>\n",
       "      <td>NaN</td>\n",
       "      <td>...</td>\n",
       "      <td>NaN</td>\n",
       "      <td>NaN</td>\n",
       "      <td>NaN</td>\n",
       "      <td>NaN</td>\n",
       "      <td>NaN</td>\n",
       "      <td>NaN</td>\n",
       "      <td>NaN</td>\n",
       "      <td>NaN</td>\n",
       "      <td>NaN</td>\n",
       "      <td>NaN</td>\n",
       "    </tr>\n",
       "    <tr>\n",
       "      <th>1</th>\n",
       "      <td>309.0</td>\n",
       "      <td>2019-12-01 00:02:41</td>\n",
       "      <td>2019-12-01 00:07:50</td>\n",
       "      <td>31104.0</td>\n",
       "      <td>Adams Mill &amp; Columbia Rd NW</td>\n",
       "      <td>31602.0</td>\n",
       "      <td>Park Rd &amp; Holmead Pl NW</td>\n",
       "      <td>W23636</td>\n",
       "      <td>Member</td>\n",
       "      <td>NaN</td>\n",
       "      <td>...</td>\n",
       "      <td>NaN</td>\n",
       "      <td>NaN</td>\n",
       "      <td>NaN</td>\n",
       "      <td>NaN</td>\n",
       "      <td>NaN</td>\n",
       "      <td>NaN</td>\n",
       "      <td>NaN</td>\n",
       "      <td>NaN</td>\n",
       "      <td>NaN</td>\n",
       "      <td>NaN</td>\n",
       "    </tr>\n",
       "  </tbody>\n",
       "</table>\n",
       "<p>2 rows × 23 columns</p>\n",
       "</div>"
      ],
      "text/plain": [
       "   Duration           Start date             End date  Start station number  \\\n",
       "0     163.0  2019-12-01 00:00:25  2019-12-01 00:03:08               31609.0   \n",
       "1     309.0  2019-12-01 00:02:41  2019-12-01 00:07:50               31104.0   \n",
       "\n",
       "                 Start station  End station number              End station  \\\n",
       "0        Maine Ave & 7th St SW             31294.0            7th & E St SW   \n",
       "1  Adams Mill & Columbia Rd NW             31602.0  Park Rd & Holmead Pl NW   \n",
       "\n",
       "  Bike number Member type ride_id  ... start_station_name start_station_id  \\\n",
       "0      W21186      Member     NaN  ...                NaN              NaN   \n",
       "1      W23636      Member     NaN  ...                NaN              NaN   \n",
       "\n",
       "  end_station_name end_station_id  start_lat start_lng  end_lat  end_lng  \\\n",
       "0              NaN            NaN        NaN       NaN      NaN      NaN   \n",
       "1              NaN            NaN        NaN       NaN      NaN      NaN   \n",
       "\n",
       "   member_casual  is_equity  \n",
       "0            NaN        NaN  \n",
       "1            NaN        NaN  \n",
       "\n",
       "[2 rows x 23 columns]"
      ]
     },
     "execution_count": 4,
     "metadata": {},
     "output_type": "execute_result"
    }
   ],
   "source": [
    "washington = pd.read_csv('master_data/washington_master.csv', low_memory=False)\n",
    "washington.head(2)"
   ]
  },
  {
   "cell_type": "code",
   "execution_count": 5,
   "metadata": {},
   "outputs": [
    {
     "name": "stdout",
     "output_type": "stream",
     "text": [
      "<class 'pandas.core.frame.DataFrame'>\n",
      "RangeIndex: 2272810 entries, 0 to 2272809\n",
      "Data columns (total 23 columns):\n",
      " #   Column                Dtype  \n",
      "---  ------                -----  \n",
      " 0   Duration              float64\n",
      " 1   Start date            object \n",
      " 2   End date              object \n",
      " 3   Start station number  float64\n",
      " 4   Start station         object \n",
      " 5   End station number    float64\n",
      " 6   End station           object \n",
      " 7   Bike number           object \n",
      " 8   Member type           object \n",
      " 9   ride_id               object \n",
      " 10  rideable_type         object \n",
      " 11  started_at            object \n",
      " 12  ended_at              object \n",
      " 13  start_station_name    object \n",
      " 14  start_station_id      float64\n",
      " 15  end_station_name      object \n",
      " 16  end_station_id        float64\n",
      " 17  start_lat             float64\n",
      " 18  start_lng             float64\n",
      " 19  end_lat               float64\n",
      " 20  end_lng               float64\n",
      " 21  member_casual         object \n",
      " 22  is_equity             object \n",
      "dtypes: float64(9), object(14)\n",
      "memory usage: 398.8+ MB\n"
     ]
    }
   ],
   "source": [
    "washington.info()"
   ]
  },
  {
   "cell_type": "code",
   "execution_count": 6,
   "metadata": {},
   "outputs": [],
   "source": [
    "# create city array for Boston dataframe\n",
    "city_b = np.repeat('Boston', boston.shape[0])\n",
    "boston['city'] = city_b\n",
    "\n",
    "# create city array for Washington dataframe\n",
    "city_w = np.repeat('Washington', washington.shape[0])\n",
    "washington['city'] = city_w"
   ]
  },
  {
   "cell_type": "markdown",
   "metadata": {},
   "source": [
    "<a id='qual'></a>\n",
    "# Quality & Tidiness\n",
    "\n",
    "\n",
    "__Tidiness__ Washington: mutiple columns containing same data type (e.g. start station number and started_station_id).  \n",
    "__Tidiness__ Washington: contains columns with data which won't be needed for the analysis.  \n",
    "__Tidiness__ Boston: contains columns with data which won't be needed for the analysis.  \n",
    "__Tidiness__ both files: ensure both files contain the same columns with the same content. \n"
   ]
  },
  {
   "cell_type": "markdown",
   "metadata": {},
   "source": [
    "<a id='clean'></a>\n",
    "# Clean & Test"
   ]
  },
  {
   "cell_type": "markdown",
   "metadata": {},
   "source": [
    "__Code & Test - Tidiness - Mutiple columns containing same data type__"
   ]
  },
  {
   "cell_type": "code",
   "execution_count": 7,
   "metadata": {
    "scrolled": true
   },
   "outputs": [
    {
     "data": {
      "text/plain": [
       "(2272810, 24)"
      ]
     },
     "execution_count": 7,
     "metadata": {},
     "output_type": "execute_result"
    }
   ],
   "source": [
    "washington.shape"
   ]
  },
  {
   "cell_type": "code",
   "execution_count": 8,
   "metadata": {},
   "outputs": [
    {
     "data": {
      "text/plain": [
       "Index(['Duration', 'Start date', 'End date', 'Start station number',\n",
       "       'Start station', 'End station number', 'End station', 'Bike number',\n",
       "       'Member type', 'ride_id', 'rideable_type', 'started_at', 'ended_at',\n",
       "       'start_station_name', 'start_station_id', 'end_station_name',\n",
       "       'end_station_id', 'start_lat', 'start_lng', 'end_lat', 'end_lng',\n",
       "       'member_casual', 'is_equity', 'city'],\n",
       "      dtype='object')"
      ]
     },
     "execution_count": 8,
     "metadata": {},
     "output_type": "execute_result"
    }
   ],
   "source": [
    "washington.columns"
   ]
  },
  {
   "cell_type": "code",
   "execution_count": 9,
   "metadata": {},
   "outputs": [],
   "source": [
    "washington_1 = washington.copy()"
   ]
  },
  {
   "cell_type": "code",
   "execution_count": 10,
   "metadata": {},
   "outputs": [],
   "source": [
    "washington_1.drop(['ride_id', 'rideable_type', 'started_at', 'ended_at',\n",
    "       'start_station_name', 'start_station_id', 'end_station_name',\n",
    "       'end_station_id', 'start_lat', 'start_lng', 'end_lat', 'end_lng',\n",
    "       'member_casual', 'is_equity','End station number','Start station number','Bike number'],axis=1, inplace=True)"
   ]
  },
  {
   "cell_type": "code",
   "execution_count": 11,
   "metadata": {},
   "outputs": [],
   "source": [
    "washington_2 = washington.copy()"
   ]
  },
  {
   "cell_type": "code",
   "execution_count": 12,
   "metadata": {},
   "outputs": [],
   "source": [
    "washington_2.drop(['Start date', 'End date', 'Start station number',\n",
    "       'Start station', 'End station number', 'End station', 'Bike number',\n",
    "       'Member type', 'ride_id', 'rideable_type','start_station_id', \n",
    "       'end_station_id', 'start_lat', 'start_lng', 'end_lat', 'end_lng', 'is_equity'],axis=1, inplace=True)"
   ]
  },
  {
   "cell_type": "code",
   "execution_count": 13,
   "metadata": {},
   "outputs": [
    {
     "data": {
      "text/html": [
       "<div>\n",
       "<style scoped>\n",
       "    .dataframe tbody tr th:only-of-type {\n",
       "        vertical-align: middle;\n",
       "    }\n",
       "\n",
       "    .dataframe tbody tr th {\n",
       "        vertical-align: top;\n",
       "    }\n",
       "\n",
       "    .dataframe thead th {\n",
       "        text-align: right;\n",
       "    }\n",
       "</style>\n",
       "<table border=\"1\" class=\"dataframe\">\n",
       "  <thead>\n",
       "    <tr style=\"text-align: right;\">\n",
       "      <th></th>\n",
       "      <th>Duration</th>\n",
       "      <th>Start date</th>\n",
       "      <th>End date</th>\n",
       "      <th>Start station</th>\n",
       "      <th>End station</th>\n",
       "      <th>Member type</th>\n",
       "      <th>City</th>\n",
       "    </tr>\n",
       "  </thead>\n",
       "  <tbody>\n",
       "    <tr>\n",
       "      <th>0</th>\n",
       "      <td>163.0</td>\n",
       "      <td>2019-12-01 00:00:25</td>\n",
       "      <td>2019-12-01 00:03:08</td>\n",
       "      <td>Maine Ave &amp; 7th St SW</td>\n",
       "      <td>7th &amp; E St SW</td>\n",
       "      <td>Member</td>\n",
       "      <td>Washington</td>\n",
       "    </tr>\n",
       "    <tr>\n",
       "      <th>1</th>\n",
       "      <td>309.0</td>\n",
       "      <td>2019-12-01 00:02:41</td>\n",
       "      <td>2019-12-01 00:07:50</td>\n",
       "      <td>Adams Mill &amp; Columbia Rd NW</td>\n",
       "      <td>Park Rd &amp; Holmead Pl NW</td>\n",
       "      <td>Member</td>\n",
       "      <td>Washington</td>\n",
       "    </tr>\n",
       "    <tr>\n",
       "      <th>2</th>\n",
       "      <td>1527.0</td>\n",
       "      <td>2019-12-01 00:05:34</td>\n",
       "      <td>2019-12-01 00:31:02</td>\n",
       "      <td>Calvert &amp; Biltmore St NW</td>\n",
       "      <td>Ward Circle / American University</td>\n",
       "      <td>Member</td>\n",
       "      <td>Washington</td>\n",
       "    </tr>\n",
       "    <tr>\n",
       "      <th>3</th>\n",
       "      <td>1509.0</td>\n",
       "      <td>2019-12-01 00:05:43</td>\n",
       "      <td>2019-12-01 00:30:53</td>\n",
       "      <td>Calvert &amp; Biltmore St NW</td>\n",
       "      <td>Ward Circle / American University</td>\n",
       "      <td>Member</td>\n",
       "      <td>Washington</td>\n",
       "    </tr>\n",
       "    <tr>\n",
       "      <th>4</th>\n",
       "      <td>81.0</td>\n",
       "      <td>2019-12-01 00:06:04</td>\n",
       "      <td>2019-12-01 00:07:26</td>\n",
       "      <td>5th St &amp; Massachusetts Ave NW</td>\n",
       "      <td>5th &amp; K St NW</td>\n",
       "      <td>Member</td>\n",
       "      <td>Washington</td>\n",
       "    </tr>\n",
       "  </tbody>\n",
       "</table>\n",
       "</div>"
      ],
      "text/plain": [
       "   Duration           Start date             End date  \\\n",
       "0     163.0  2019-12-01 00:00:25  2019-12-01 00:03:08   \n",
       "1     309.0  2019-12-01 00:02:41  2019-12-01 00:07:50   \n",
       "2    1527.0  2019-12-01 00:05:34  2019-12-01 00:31:02   \n",
       "3    1509.0  2019-12-01 00:05:43  2019-12-01 00:30:53   \n",
       "4      81.0  2019-12-01 00:06:04  2019-12-01 00:07:26   \n",
       "\n",
       "                   Start station                        End station  \\\n",
       "0          Maine Ave & 7th St SW                      7th & E St SW   \n",
       "1    Adams Mill & Columbia Rd NW            Park Rd & Holmead Pl NW   \n",
       "2       Calvert & Biltmore St NW  Ward Circle / American University   \n",
       "3       Calvert & Biltmore St NW  Ward Circle / American University   \n",
       "4  5th St & Massachusetts Ave NW                      5th & K St NW   \n",
       "\n",
       "  Member type        City  \n",
       "0      Member  Washington  \n",
       "1      Member  Washington  \n",
       "2      Member  Washington  \n",
       "3      Member  Washington  \n",
       "4      Member  Washington  "
      ]
     },
     "execution_count": 13,
     "metadata": {},
     "output_type": "execute_result"
    }
   ],
   "source": [
    "washington_1.rename(columns={'city': 'City'}, inplace=True)\n",
    "washington_1.head()"
   ]
  },
  {
   "cell_type": "code",
   "execution_count": 14,
   "metadata": {},
   "outputs": [
    {
     "data": {
      "text/html": [
       "<div>\n",
       "<style scoped>\n",
       "    .dataframe tbody tr th:only-of-type {\n",
       "        vertical-align: middle;\n",
       "    }\n",
       "\n",
       "    .dataframe tbody tr th {\n",
       "        vertical-align: top;\n",
       "    }\n",
       "\n",
       "    .dataframe thead th {\n",
       "        text-align: right;\n",
       "    }\n",
       "</style>\n",
       "<table border=\"1\" class=\"dataframe\">\n",
       "  <thead>\n",
       "    <tr style=\"text-align: right;\">\n",
       "      <th></th>\n",
       "      <th>Duration</th>\n",
       "      <th>Start date</th>\n",
       "      <th>End date</th>\n",
       "      <th>Start station</th>\n",
       "      <th>End station</th>\n",
       "      <th>Member type</th>\n",
       "      <th>City</th>\n",
       "    </tr>\n",
       "  </thead>\n",
       "  <tbody>\n",
       "    <tr>\n",
       "      <th>0</th>\n",
       "      <td>163.0</td>\n",
       "      <td>NaN</td>\n",
       "      <td>NaN</td>\n",
       "      <td>NaN</td>\n",
       "      <td>NaN</td>\n",
       "      <td>NaN</td>\n",
       "      <td>Washington</td>\n",
       "    </tr>\n",
       "    <tr>\n",
       "      <th>1</th>\n",
       "      <td>309.0</td>\n",
       "      <td>NaN</td>\n",
       "      <td>NaN</td>\n",
       "      <td>NaN</td>\n",
       "      <td>NaN</td>\n",
       "      <td>NaN</td>\n",
       "      <td>Washington</td>\n",
       "    </tr>\n",
       "    <tr>\n",
       "      <th>2</th>\n",
       "      <td>1527.0</td>\n",
       "      <td>NaN</td>\n",
       "      <td>NaN</td>\n",
       "      <td>NaN</td>\n",
       "      <td>NaN</td>\n",
       "      <td>NaN</td>\n",
       "      <td>Washington</td>\n",
       "    </tr>\n",
       "    <tr>\n",
       "      <th>3</th>\n",
       "      <td>1509.0</td>\n",
       "      <td>NaN</td>\n",
       "      <td>NaN</td>\n",
       "      <td>NaN</td>\n",
       "      <td>NaN</td>\n",
       "      <td>NaN</td>\n",
       "      <td>Washington</td>\n",
       "    </tr>\n",
       "    <tr>\n",
       "      <th>4</th>\n",
       "      <td>81.0</td>\n",
       "      <td>NaN</td>\n",
       "      <td>NaN</td>\n",
       "      <td>NaN</td>\n",
       "      <td>NaN</td>\n",
       "      <td>NaN</td>\n",
       "      <td>Washington</td>\n",
       "    </tr>\n",
       "  </tbody>\n",
       "</table>\n",
       "</div>"
      ],
      "text/plain": [
       "   Duration Start date End date Start station End station Member type  \\\n",
       "0     163.0        NaN      NaN           NaN         NaN         NaN   \n",
       "1     309.0        NaN      NaN           NaN         NaN         NaN   \n",
       "2    1527.0        NaN      NaN           NaN         NaN         NaN   \n",
       "3    1509.0        NaN      NaN           NaN         NaN         NaN   \n",
       "4      81.0        NaN      NaN           NaN         NaN         NaN   \n",
       "\n",
       "         City  \n",
       "0  Washington  \n",
       "1  Washington  \n",
       "2  Washington  \n",
       "3  Washington  \n",
       "4  Washington  "
      ]
     },
     "execution_count": 14,
     "metadata": {},
     "output_type": "execute_result"
    }
   ],
   "source": [
    "washington_2.rename(columns={'started_at': 'Start date', 'ended_at':'End date', 'start_station_name': 'Start station',\n",
    "                             'end_station_name':'End station','member_casual':'Member type','city': 'City'}, inplace=True)\n",
    "washington_2.head()"
   ]
  },
  {
   "cell_type": "code",
   "execution_count": 15,
   "metadata": {
    "scrolled": false
   },
   "outputs": [],
   "source": [
    "washington_2 = washington_2.dropna(subset = ['Start date'])"
   ]
  },
  {
   "cell_type": "code",
   "execution_count": 16,
   "metadata": {
    "scrolled": false
   },
   "outputs": [],
   "source": [
    "washington_1 = washington_1.dropna(subset = ['Start date'])"
   ]
  },
  {
   "cell_type": "code",
   "execution_count": 17,
   "metadata": {},
   "outputs": [
    {
     "data": {
      "text/html": [
       "<div>\n",
       "<style scoped>\n",
       "    .dataframe tbody tr th:only-of-type {\n",
       "        vertical-align: middle;\n",
       "    }\n",
       "\n",
       "    .dataframe tbody tr th {\n",
       "        vertical-align: top;\n",
       "    }\n",
       "\n",
       "    .dataframe thead th {\n",
       "        text-align: right;\n",
       "    }\n",
       "</style>\n",
       "<table border=\"1\" class=\"dataframe\">\n",
       "  <thead>\n",
       "    <tr style=\"text-align: right;\">\n",
       "      <th></th>\n",
       "      <th>Duration</th>\n",
       "      <th>Start date</th>\n",
       "      <th>End date</th>\n",
       "      <th>Start station</th>\n",
       "      <th>End station</th>\n",
       "      <th>Member type</th>\n",
       "      <th>City</th>\n",
       "    </tr>\n",
       "  </thead>\n",
       "  <tbody>\n",
       "    <tr>\n",
       "      <th>699278</th>\n",
       "      <td>NaN</td>\n",
       "      <td>2020-04-27 10:33:08</td>\n",
       "      <td>2020-04-27 10:53:26</td>\n",
       "      <td>4th &amp; M St SW</td>\n",
       "      <td>New York Ave &amp; 15th St NW</td>\n",
       "      <td>member</td>\n",
       "      <td>Washington</td>\n",
       "    </tr>\n",
       "    <tr>\n",
       "      <th>699279</th>\n",
       "      <td>NaN</td>\n",
       "      <td>2020-04-27 11:20:07</td>\n",
       "      <td>2020-04-27 11:42:55</td>\n",
       "      <td>17th &amp; K St NW</td>\n",
       "      <td>4th &amp; M St SW</td>\n",
       "      <td>member</td>\n",
       "      <td>Washington</td>\n",
       "    </tr>\n",
       "    <tr>\n",
       "      <th>699280</th>\n",
       "      <td>NaN</td>\n",
       "      <td>2020-04-27 09:45:45</td>\n",
       "      <td>2020-04-27 09:54:32</td>\n",
       "      <td>1st &amp; M St SE</td>\n",
       "      <td>4th &amp; M St SW</td>\n",
       "      <td>member</td>\n",
       "      <td>Washington</td>\n",
       "    </tr>\n",
       "    <tr>\n",
       "      <th>699281</th>\n",
       "      <td>NaN</td>\n",
       "      <td>2020-04-14 13:16:54</td>\n",
       "      <td>2020-04-14 13:28:59</td>\n",
       "      <td>11th &amp; Kenyon St NW</td>\n",
       "      <td>Thomas Circle</td>\n",
       "      <td>casual</td>\n",
       "      <td>Washington</td>\n",
       "    </tr>\n",
       "    <tr>\n",
       "      <th>699282</th>\n",
       "      <td>NaN</td>\n",
       "      <td>2020-04-19 20:42:25</td>\n",
       "      <td>2020-04-19 20:51:12</td>\n",
       "      <td>13th &amp; H St NE</td>\n",
       "      <td>Eastern Market / 7th &amp; North Carolina Ave SE</td>\n",
       "      <td>member</td>\n",
       "      <td>Washington</td>\n",
       "    </tr>\n",
       "  </tbody>\n",
       "</table>\n",
       "</div>"
      ],
      "text/plain": [
       "        Duration           Start date             End date  \\\n",
       "699278       NaN  2020-04-27 10:33:08  2020-04-27 10:53:26   \n",
       "699279       NaN  2020-04-27 11:20:07  2020-04-27 11:42:55   \n",
       "699280       NaN  2020-04-27 09:45:45  2020-04-27 09:54:32   \n",
       "699281       NaN  2020-04-14 13:16:54  2020-04-14 13:28:59   \n",
       "699282       NaN  2020-04-19 20:42:25  2020-04-19 20:51:12   \n",
       "\n",
       "              Start station                                   End station  \\\n",
       "699278        4th & M St SW                     New York Ave & 15th St NW   \n",
       "699279       17th & K St NW                                 4th & M St SW   \n",
       "699280        1st & M St SE                                 4th & M St SW   \n",
       "699281  11th & Kenyon St NW                                 Thomas Circle   \n",
       "699282       13th & H St NE  Eastern Market / 7th & North Carolina Ave SE   \n",
       "\n",
       "       Member type        City  \n",
       "699278      member  Washington  \n",
       "699279      member  Washington  \n",
       "699280      member  Washington  \n",
       "699281      casual  Washington  \n",
       "699282      member  Washington  "
      ]
     },
     "execution_count": 17,
     "metadata": {},
     "output_type": "execute_result"
    }
   ],
   "source": [
    "washington_2.head()"
   ]
  },
  {
   "cell_type": "code",
   "execution_count": 18,
   "metadata": {},
   "outputs": [
    {
     "name": "stdout",
     "output_type": "stream",
     "text": [
      "<class 'pandas.core.frame.DataFrame'>\n",
      "Int64Index: 1573532 entries, 699278 to 2272809\n",
      "Data columns (total 7 columns):\n",
      " #   Column         Non-Null Count    Dtype         \n",
      "---  ------         --------------    -----         \n",
      " 0   Duration       0 non-null        float64       \n",
      " 1   Start date     1573532 non-null  datetime64[ns]\n",
      " 2   End date       1573532 non-null  datetime64[ns]\n",
      " 3   Start station  1499953 non-null  object        \n",
      " 4   End station    1488020 non-null  object        \n",
      " 5   Member type    1573532 non-null  object        \n",
      " 6   City           1573532 non-null  object        \n",
      "dtypes: datetime64[ns](2), float64(1), object(4)\n",
      "memory usage: 96.0+ MB\n"
     ]
    }
   ],
   "source": [
    "washington_2['Start date'] = pd.to_datetime(washington_2['Start date'])\n",
    "washington_2['End date'] = pd.to_datetime(washington_2['End date'])\n",
    "washington_2.info()"
   ]
  },
  {
   "cell_type": "code",
   "execution_count": 19,
   "metadata": {},
   "outputs": [
    {
     "data": {
      "text/html": [
       "<div>\n",
       "<style scoped>\n",
       "    .dataframe tbody tr th:only-of-type {\n",
       "        vertical-align: middle;\n",
       "    }\n",
       "\n",
       "    .dataframe tbody tr th {\n",
       "        vertical-align: top;\n",
       "    }\n",
       "\n",
       "    .dataframe thead th {\n",
       "        text-align: right;\n",
       "    }\n",
       "</style>\n",
       "<table border=\"1\" class=\"dataframe\">\n",
       "  <thead>\n",
       "    <tr style=\"text-align: right;\">\n",
       "      <th></th>\n",
       "      <th>Duration</th>\n",
       "      <th>Start date</th>\n",
       "      <th>End date</th>\n",
       "      <th>Start station</th>\n",
       "      <th>End station</th>\n",
       "      <th>Member type</th>\n",
       "      <th>City</th>\n",
       "      <th>TimeDelta</th>\n",
       "    </tr>\n",
       "  </thead>\n",
       "  <tbody>\n",
       "    <tr>\n",
       "      <th>699278</th>\n",
       "      <td>NaN</td>\n",
       "      <td>2020-04-27 10:33:08</td>\n",
       "      <td>2020-04-27 10:53:26</td>\n",
       "      <td>4th &amp; M St SW</td>\n",
       "      <td>New York Ave &amp; 15th St NW</td>\n",
       "      <td>member</td>\n",
       "      <td>Washington</td>\n",
       "      <td>00:20:18</td>\n",
       "    </tr>\n",
       "    <tr>\n",
       "      <th>699279</th>\n",
       "      <td>NaN</td>\n",
       "      <td>2020-04-27 11:20:07</td>\n",
       "      <td>2020-04-27 11:42:55</td>\n",
       "      <td>17th &amp; K St NW</td>\n",
       "      <td>4th &amp; M St SW</td>\n",
       "      <td>member</td>\n",
       "      <td>Washington</td>\n",
       "      <td>00:22:48</td>\n",
       "    </tr>\n",
       "    <tr>\n",
       "      <th>699280</th>\n",
       "      <td>NaN</td>\n",
       "      <td>2020-04-27 09:45:45</td>\n",
       "      <td>2020-04-27 09:54:32</td>\n",
       "      <td>1st &amp; M St SE</td>\n",
       "      <td>4th &amp; M St SW</td>\n",
       "      <td>member</td>\n",
       "      <td>Washington</td>\n",
       "      <td>00:08:47</td>\n",
       "    </tr>\n",
       "    <tr>\n",
       "      <th>699281</th>\n",
       "      <td>NaN</td>\n",
       "      <td>2020-04-14 13:16:54</td>\n",
       "      <td>2020-04-14 13:28:59</td>\n",
       "      <td>11th &amp; Kenyon St NW</td>\n",
       "      <td>Thomas Circle</td>\n",
       "      <td>casual</td>\n",
       "      <td>Washington</td>\n",
       "      <td>00:12:05</td>\n",
       "    </tr>\n",
       "    <tr>\n",
       "      <th>699282</th>\n",
       "      <td>NaN</td>\n",
       "      <td>2020-04-19 20:42:25</td>\n",
       "      <td>2020-04-19 20:51:12</td>\n",
       "      <td>13th &amp; H St NE</td>\n",
       "      <td>Eastern Market / 7th &amp; North Carolina Ave SE</td>\n",
       "      <td>member</td>\n",
       "      <td>Washington</td>\n",
       "      <td>00:08:47</td>\n",
       "    </tr>\n",
       "    <tr>\n",
       "      <th>...</th>\n",
       "      <td>...</td>\n",
       "      <td>...</td>\n",
       "      <td>...</td>\n",
       "      <td>...</td>\n",
       "      <td>...</td>\n",
       "      <td>...</td>\n",
       "      <td>...</td>\n",
       "      <td>...</td>\n",
       "    </tr>\n",
       "    <tr>\n",
       "      <th>2272805</th>\n",
       "      <td>NaN</td>\n",
       "      <td>2020-11-10 11:10:51</td>\n",
       "      <td>2020-11-10 11:55:07</td>\n",
       "      <td>NaN</td>\n",
       "      <td>NaN</td>\n",
       "      <td>casual</td>\n",
       "      <td>Washington</td>\n",
       "      <td>00:44:16</td>\n",
       "    </tr>\n",
       "    <tr>\n",
       "      <th>2272806</th>\n",
       "      <td>NaN</td>\n",
       "      <td>2020-11-10 13:40:56</td>\n",
       "      <td>2020-11-10 14:10:00</td>\n",
       "      <td>NaN</td>\n",
       "      <td>NaN</td>\n",
       "      <td>casual</td>\n",
       "      <td>Washington</td>\n",
       "      <td>00:29:04</td>\n",
       "    </tr>\n",
       "    <tr>\n",
       "      <th>2272807</th>\n",
       "      <td>NaN</td>\n",
       "      <td>2020-11-10 13:37:16</td>\n",
       "      <td>2020-11-10 13:46:17</td>\n",
       "      <td>Wisconsin Ave &amp; Newark St NW</td>\n",
       "      <td>NaN</td>\n",
       "      <td>casual</td>\n",
       "      <td>Washington</td>\n",
       "      <td>00:09:01</td>\n",
       "    </tr>\n",
       "    <tr>\n",
       "      <th>2272808</th>\n",
       "      <td>NaN</td>\n",
       "      <td>2020-11-10 15:05:42</td>\n",
       "      <td>2020-11-10 15:09:21</td>\n",
       "      <td>NaN</td>\n",
       "      <td>NaN</td>\n",
       "      <td>casual</td>\n",
       "      <td>Washington</td>\n",
       "      <td>00:03:39</td>\n",
       "    </tr>\n",
       "    <tr>\n",
       "      <th>2272809</th>\n",
       "      <td>NaN</td>\n",
       "      <td>2020-11-10 14:26:31</td>\n",
       "      <td>2020-11-10 14:29:34</td>\n",
       "      <td>NaN</td>\n",
       "      <td>NaN</td>\n",
       "      <td>casual</td>\n",
       "      <td>Washington</td>\n",
       "      <td>00:03:03</td>\n",
       "    </tr>\n",
       "  </tbody>\n",
       "</table>\n",
       "<p>1573532 rows × 8 columns</p>\n",
       "</div>"
      ],
      "text/plain": [
       "         Duration          Start date            End date  \\\n",
       "699278        NaN 2020-04-27 10:33:08 2020-04-27 10:53:26   \n",
       "699279        NaN 2020-04-27 11:20:07 2020-04-27 11:42:55   \n",
       "699280        NaN 2020-04-27 09:45:45 2020-04-27 09:54:32   \n",
       "699281        NaN 2020-04-14 13:16:54 2020-04-14 13:28:59   \n",
       "699282        NaN 2020-04-19 20:42:25 2020-04-19 20:51:12   \n",
       "...           ...                 ...                 ...   \n",
       "2272805       NaN 2020-11-10 11:10:51 2020-11-10 11:55:07   \n",
       "2272806       NaN 2020-11-10 13:40:56 2020-11-10 14:10:00   \n",
       "2272807       NaN 2020-11-10 13:37:16 2020-11-10 13:46:17   \n",
       "2272808       NaN 2020-11-10 15:05:42 2020-11-10 15:09:21   \n",
       "2272809       NaN 2020-11-10 14:26:31 2020-11-10 14:29:34   \n",
       "\n",
       "                        Start station  \\\n",
       "699278                  4th & M St SW   \n",
       "699279                 17th & K St NW   \n",
       "699280                  1st & M St SE   \n",
       "699281            11th & Kenyon St NW   \n",
       "699282                 13th & H St NE   \n",
       "...                               ...   \n",
       "2272805                           NaN   \n",
       "2272806                           NaN   \n",
       "2272807  Wisconsin Ave & Newark St NW   \n",
       "2272808                           NaN   \n",
       "2272809                           NaN   \n",
       "\n",
       "                                          End station Member type        City  \\\n",
       "699278                      New York Ave & 15th St NW      member  Washington   \n",
       "699279                                  4th & M St SW      member  Washington   \n",
       "699280                                  4th & M St SW      member  Washington   \n",
       "699281                                  Thomas Circle      casual  Washington   \n",
       "699282   Eastern Market / 7th & North Carolina Ave SE      member  Washington   \n",
       "...                                               ...         ...         ...   \n",
       "2272805                                           NaN      casual  Washington   \n",
       "2272806                                           NaN      casual  Washington   \n",
       "2272807                                           NaN      casual  Washington   \n",
       "2272808                                           NaN      casual  Washington   \n",
       "2272809                                           NaN      casual  Washington   \n",
       "\n",
       "        TimeDelta  \n",
       "699278   00:20:18  \n",
       "699279   00:22:48  \n",
       "699280   00:08:47  \n",
       "699281   00:12:05  \n",
       "699282   00:08:47  \n",
       "...           ...  \n",
       "2272805  00:44:16  \n",
       "2272806  00:29:04  \n",
       "2272807  00:09:01  \n",
       "2272808  00:03:39  \n",
       "2272809  00:03:03  \n",
       "\n",
       "[1573532 rows x 8 columns]"
      ]
     },
     "execution_count": 19,
     "metadata": {},
     "output_type": "execute_result"
    }
   ],
   "source": [
    "washington_2['TimeDelta']=washington_2['End date']-washington_2['Start date']\n",
    "washington_2"
   ]
  },
  {
   "cell_type": "code",
   "execution_count": 20,
   "metadata": {},
   "outputs": [],
   "source": [
    "washington_2['TimeDelta'] = washington_2['TimeDelta'].astype(np.str)"
   ]
  },
  {
   "cell_type": "code",
   "execution_count": 21,
   "metadata": {},
   "outputs": [
    {
     "name": "stdout",
     "output_type": "stream",
     "text": [
      "<class 'pandas.core.frame.DataFrame'>\n",
      "Int64Index: 1573532 entries, 699278 to 2272809\n",
      "Data columns (total 8 columns):\n",
      " #   Column         Non-Null Count    Dtype         \n",
      "---  ------         --------------    -----         \n",
      " 0   Duration       0 non-null        float64       \n",
      " 1   Start date     1573532 non-null  datetime64[ns]\n",
      " 2   End date       1573532 non-null  datetime64[ns]\n",
      " 3   Start station  1499953 non-null  object        \n",
      " 4   End station    1488020 non-null  object        \n",
      " 5   Member type    1573532 non-null  object        \n",
      " 6   City           1573532 non-null  object        \n",
      " 7   TimeDelta      1573532 non-null  object        \n",
      "dtypes: datetime64[ns](2), float64(1), object(5)\n",
      "memory usage: 108.0+ MB\n"
     ]
    }
   ],
   "source": [
    "washington_2.info()"
   ]
  },
  {
   "cell_type": "code",
   "execution_count": 22,
   "metadata": {
    "scrolled": true
   },
   "outputs": [],
   "source": [
    "time_delta = washington_2.TimeDelta.items()\n",
    "for item in time_delta:\n",
    "    delta = item[1].split(' ')\n",
    "    days = int(delta[0])\n",
    "    time_list = delta[2].split(':')\n",
    "    hours = int(time_list[0])\n",
    "    minutes = int(time_list[1])\n",
    "    seconds = int(time_list[2].split('.')[0])\n",
    "\n",
    "    total_seconds = (days*24*60*60) + (hours*3600) + (minutes*60) + seconds\n",
    "    #print(total_seconds)\n",
    "    \n",
    "    washington_2.at[item[0],'Duration'] = total_seconds"
   ]
  },
  {
   "cell_type": "code",
   "execution_count": 23,
   "metadata": {},
   "outputs": [
    {
     "data": {
      "text/html": [
       "<div>\n",
       "<style scoped>\n",
       "    .dataframe tbody tr th:only-of-type {\n",
       "        vertical-align: middle;\n",
       "    }\n",
       "\n",
       "    .dataframe tbody tr th {\n",
       "        vertical-align: top;\n",
       "    }\n",
       "\n",
       "    .dataframe thead th {\n",
       "        text-align: right;\n",
       "    }\n",
       "</style>\n",
       "<table border=\"1\" class=\"dataframe\">\n",
       "  <thead>\n",
       "    <tr style=\"text-align: right;\">\n",
       "      <th></th>\n",
       "      <th>Duration</th>\n",
       "      <th>Start date</th>\n",
       "      <th>End date</th>\n",
       "      <th>Start station</th>\n",
       "      <th>End station</th>\n",
       "      <th>Member type</th>\n",
       "      <th>City</th>\n",
       "    </tr>\n",
       "  </thead>\n",
       "  <tbody>\n",
       "    <tr>\n",
       "      <th>699278</th>\n",
       "      <td>1218.0</td>\n",
       "      <td>2020-04-27 10:33:08</td>\n",
       "      <td>2020-04-27 10:53:26</td>\n",
       "      <td>4th &amp; M St SW</td>\n",
       "      <td>New York Ave &amp; 15th St NW</td>\n",
       "      <td>member</td>\n",
       "      <td>Washington</td>\n",
       "    </tr>\n",
       "    <tr>\n",
       "      <th>699279</th>\n",
       "      <td>1368.0</td>\n",
       "      <td>2020-04-27 11:20:07</td>\n",
       "      <td>2020-04-27 11:42:55</td>\n",
       "      <td>17th &amp; K St NW</td>\n",
       "      <td>4th &amp; M St SW</td>\n",
       "      <td>member</td>\n",
       "      <td>Washington</td>\n",
       "    </tr>\n",
       "    <tr>\n",
       "      <th>699280</th>\n",
       "      <td>527.0</td>\n",
       "      <td>2020-04-27 09:45:45</td>\n",
       "      <td>2020-04-27 09:54:32</td>\n",
       "      <td>1st &amp; M St SE</td>\n",
       "      <td>4th &amp; M St SW</td>\n",
       "      <td>member</td>\n",
       "      <td>Washington</td>\n",
       "    </tr>\n",
       "    <tr>\n",
       "      <th>699281</th>\n",
       "      <td>725.0</td>\n",
       "      <td>2020-04-14 13:16:54</td>\n",
       "      <td>2020-04-14 13:28:59</td>\n",
       "      <td>11th &amp; Kenyon St NW</td>\n",
       "      <td>Thomas Circle</td>\n",
       "      <td>casual</td>\n",
       "      <td>Washington</td>\n",
       "    </tr>\n",
       "    <tr>\n",
       "      <th>699282</th>\n",
       "      <td>527.0</td>\n",
       "      <td>2020-04-19 20:42:25</td>\n",
       "      <td>2020-04-19 20:51:12</td>\n",
       "      <td>13th &amp; H St NE</td>\n",
       "      <td>Eastern Market / 7th &amp; North Carolina Ave SE</td>\n",
       "      <td>member</td>\n",
       "      <td>Washington</td>\n",
       "    </tr>\n",
       "    <tr>\n",
       "      <th>...</th>\n",
       "      <td>...</td>\n",
       "      <td>...</td>\n",
       "      <td>...</td>\n",
       "      <td>...</td>\n",
       "      <td>...</td>\n",
       "      <td>...</td>\n",
       "      <td>...</td>\n",
       "    </tr>\n",
       "    <tr>\n",
       "      <th>2272805</th>\n",
       "      <td>2656.0</td>\n",
       "      <td>2020-11-10 11:10:51</td>\n",
       "      <td>2020-11-10 11:55:07</td>\n",
       "      <td>NaN</td>\n",
       "      <td>NaN</td>\n",
       "      <td>casual</td>\n",
       "      <td>Washington</td>\n",
       "    </tr>\n",
       "    <tr>\n",
       "      <th>2272806</th>\n",
       "      <td>1744.0</td>\n",
       "      <td>2020-11-10 13:40:56</td>\n",
       "      <td>2020-11-10 14:10:00</td>\n",
       "      <td>NaN</td>\n",
       "      <td>NaN</td>\n",
       "      <td>casual</td>\n",
       "      <td>Washington</td>\n",
       "    </tr>\n",
       "    <tr>\n",
       "      <th>2272807</th>\n",
       "      <td>541.0</td>\n",
       "      <td>2020-11-10 13:37:16</td>\n",
       "      <td>2020-11-10 13:46:17</td>\n",
       "      <td>Wisconsin Ave &amp; Newark St NW</td>\n",
       "      <td>NaN</td>\n",
       "      <td>casual</td>\n",
       "      <td>Washington</td>\n",
       "    </tr>\n",
       "    <tr>\n",
       "      <th>2272808</th>\n",
       "      <td>219.0</td>\n",
       "      <td>2020-11-10 15:05:42</td>\n",
       "      <td>2020-11-10 15:09:21</td>\n",
       "      <td>NaN</td>\n",
       "      <td>NaN</td>\n",
       "      <td>casual</td>\n",
       "      <td>Washington</td>\n",
       "    </tr>\n",
       "    <tr>\n",
       "      <th>2272809</th>\n",
       "      <td>183.0</td>\n",
       "      <td>2020-11-10 14:26:31</td>\n",
       "      <td>2020-11-10 14:29:34</td>\n",
       "      <td>NaN</td>\n",
       "      <td>NaN</td>\n",
       "      <td>casual</td>\n",
       "      <td>Washington</td>\n",
       "    </tr>\n",
       "  </tbody>\n",
       "</table>\n",
       "<p>1573532 rows × 7 columns</p>\n",
       "</div>"
      ],
      "text/plain": [
       "         Duration          Start date            End date  \\\n",
       "699278     1218.0 2020-04-27 10:33:08 2020-04-27 10:53:26   \n",
       "699279     1368.0 2020-04-27 11:20:07 2020-04-27 11:42:55   \n",
       "699280      527.0 2020-04-27 09:45:45 2020-04-27 09:54:32   \n",
       "699281      725.0 2020-04-14 13:16:54 2020-04-14 13:28:59   \n",
       "699282      527.0 2020-04-19 20:42:25 2020-04-19 20:51:12   \n",
       "...           ...                 ...                 ...   \n",
       "2272805    2656.0 2020-11-10 11:10:51 2020-11-10 11:55:07   \n",
       "2272806    1744.0 2020-11-10 13:40:56 2020-11-10 14:10:00   \n",
       "2272807     541.0 2020-11-10 13:37:16 2020-11-10 13:46:17   \n",
       "2272808     219.0 2020-11-10 15:05:42 2020-11-10 15:09:21   \n",
       "2272809     183.0 2020-11-10 14:26:31 2020-11-10 14:29:34   \n",
       "\n",
       "                        Start station  \\\n",
       "699278                  4th & M St SW   \n",
       "699279                 17th & K St NW   \n",
       "699280                  1st & M St SE   \n",
       "699281            11th & Kenyon St NW   \n",
       "699282                 13th & H St NE   \n",
       "...                               ...   \n",
       "2272805                           NaN   \n",
       "2272806                           NaN   \n",
       "2272807  Wisconsin Ave & Newark St NW   \n",
       "2272808                           NaN   \n",
       "2272809                           NaN   \n",
       "\n",
       "                                          End station Member type        City  \n",
       "699278                      New York Ave & 15th St NW      member  Washington  \n",
       "699279                                  4th & M St SW      member  Washington  \n",
       "699280                                  4th & M St SW      member  Washington  \n",
       "699281                                  Thomas Circle      casual  Washington  \n",
       "699282   Eastern Market / 7th & North Carolina Ave SE      member  Washington  \n",
       "...                                               ...         ...         ...  \n",
       "2272805                                           NaN      casual  Washington  \n",
       "2272806                                           NaN      casual  Washington  \n",
       "2272807                                           NaN      casual  Washington  \n",
       "2272808                                           NaN      casual  Washington  \n",
       "2272809                                           NaN      casual  Washington  \n",
       "\n",
       "[1573532 rows x 7 columns]"
      ]
     },
     "execution_count": 23,
     "metadata": {},
     "output_type": "execute_result"
    }
   ],
   "source": [
    "washington_2.drop(['TimeDelta'],axis=1, inplace=True)\n",
    "washington_2"
   ]
  },
  {
   "cell_type": "code",
   "execution_count": 24,
   "metadata": {},
   "outputs": [],
   "source": [
    "w_master = pd.concat([washington_1, washington_2], ignore_index=True, sort = False)"
   ]
  },
  {
   "cell_type": "code",
   "execution_count": 25,
   "metadata": {},
   "outputs": [
    {
     "data": {
      "text/html": [
       "<div>\n",
       "<style scoped>\n",
       "    .dataframe tbody tr th:only-of-type {\n",
       "        vertical-align: middle;\n",
       "    }\n",
       "\n",
       "    .dataframe tbody tr th {\n",
       "        vertical-align: top;\n",
       "    }\n",
       "\n",
       "    .dataframe thead th {\n",
       "        text-align: right;\n",
       "    }\n",
       "</style>\n",
       "<table border=\"1\" class=\"dataframe\">\n",
       "  <thead>\n",
       "    <tr style=\"text-align: right;\">\n",
       "      <th></th>\n",
       "      <th>Duration</th>\n",
       "      <th>Start date</th>\n",
       "      <th>End date</th>\n",
       "      <th>Start station</th>\n",
       "      <th>End station</th>\n",
       "      <th>Member type</th>\n",
       "      <th>City</th>\n",
       "    </tr>\n",
       "  </thead>\n",
       "  <tbody>\n",
       "    <tr>\n",
       "      <th>0</th>\n",
       "      <td>163.0</td>\n",
       "      <td>2019-12-01 00:00:25</td>\n",
       "      <td>2019-12-01 00:03:08</td>\n",
       "      <td>Maine Ave &amp; 7th St SW</td>\n",
       "      <td>7th &amp; E St SW</td>\n",
       "      <td>Member</td>\n",
       "      <td>Washington</td>\n",
       "    </tr>\n",
       "    <tr>\n",
       "      <th>1</th>\n",
       "      <td>309.0</td>\n",
       "      <td>2019-12-01 00:02:41</td>\n",
       "      <td>2019-12-01 00:07:50</td>\n",
       "      <td>Adams Mill &amp; Columbia Rd NW</td>\n",
       "      <td>Park Rd &amp; Holmead Pl NW</td>\n",
       "      <td>Member</td>\n",
       "      <td>Washington</td>\n",
       "    </tr>\n",
       "    <tr>\n",
       "      <th>2</th>\n",
       "      <td>1527.0</td>\n",
       "      <td>2019-12-01 00:05:34</td>\n",
       "      <td>2019-12-01 00:31:02</td>\n",
       "      <td>Calvert &amp; Biltmore St NW</td>\n",
       "      <td>Ward Circle / American University</td>\n",
       "      <td>Member</td>\n",
       "      <td>Washington</td>\n",
       "    </tr>\n",
       "    <tr>\n",
       "      <th>3</th>\n",
       "      <td>1509.0</td>\n",
       "      <td>2019-12-01 00:05:43</td>\n",
       "      <td>2019-12-01 00:30:53</td>\n",
       "      <td>Calvert &amp; Biltmore St NW</td>\n",
       "      <td>Ward Circle / American University</td>\n",
       "      <td>Member</td>\n",
       "      <td>Washington</td>\n",
       "    </tr>\n",
       "    <tr>\n",
       "      <th>4</th>\n",
       "      <td>81.0</td>\n",
       "      <td>2019-12-01 00:06:04</td>\n",
       "      <td>2019-12-01 00:07:26</td>\n",
       "      <td>5th St &amp; Massachusetts Ave NW</td>\n",
       "      <td>5th &amp; K St NW</td>\n",
       "      <td>Member</td>\n",
       "      <td>Washington</td>\n",
       "    </tr>\n",
       "    <tr>\n",
       "      <th>...</th>\n",
       "      <td>...</td>\n",
       "      <td>...</td>\n",
       "      <td>...</td>\n",
       "      <td>...</td>\n",
       "      <td>...</td>\n",
       "      <td>...</td>\n",
       "      <td>...</td>\n",
       "    </tr>\n",
       "    <tr>\n",
       "      <th>2272805</th>\n",
       "      <td>2656.0</td>\n",
       "      <td>2020-11-10 11:10:51</td>\n",
       "      <td>2020-11-10 11:55:07</td>\n",
       "      <td>NaN</td>\n",
       "      <td>NaN</td>\n",
       "      <td>casual</td>\n",
       "      <td>Washington</td>\n",
       "    </tr>\n",
       "    <tr>\n",
       "      <th>2272806</th>\n",
       "      <td>1744.0</td>\n",
       "      <td>2020-11-10 13:40:56</td>\n",
       "      <td>2020-11-10 14:10:00</td>\n",
       "      <td>NaN</td>\n",
       "      <td>NaN</td>\n",
       "      <td>casual</td>\n",
       "      <td>Washington</td>\n",
       "    </tr>\n",
       "    <tr>\n",
       "      <th>2272807</th>\n",
       "      <td>541.0</td>\n",
       "      <td>2020-11-10 13:37:16</td>\n",
       "      <td>2020-11-10 13:46:17</td>\n",
       "      <td>Wisconsin Ave &amp; Newark St NW</td>\n",
       "      <td>NaN</td>\n",
       "      <td>casual</td>\n",
       "      <td>Washington</td>\n",
       "    </tr>\n",
       "    <tr>\n",
       "      <th>2272808</th>\n",
       "      <td>219.0</td>\n",
       "      <td>2020-11-10 15:05:42</td>\n",
       "      <td>2020-11-10 15:09:21</td>\n",
       "      <td>NaN</td>\n",
       "      <td>NaN</td>\n",
       "      <td>casual</td>\n",
       "      <td>Washington</td>\n",
       "    </tr>\n",
       "    <tr>\n",
       "      <th>2272809</th>\n",
       "      <td>183.0</td>\n",
       "      <td>2020-11-10 14:26:31</td>\n",
       "      <td>2020-11-10 14:29:34</td>\n",
       "      <td>NaN</td>\n",
       "      <td>NaN</td>\n",
       "      <td>casual</td>\n",
       "      <td>Washington</td>\n",
       "    </tr>\n",
       "  </tbody>\n",
       "</table>\n",
       "<p>2272810 rows × 7 columns</p>\n",
       "</div>"
      ],
      "text/plain": [
       "         Duration           Start date             End date  \\\n",
       "0           163.0  2019-12-01 00:00:25  2019-12-01 00:03:08   \n",
       "1           309.0  2019-12-01 00:02:41  2019-12-01 00:07:50   \n",
       "2          1527.0  2019-12-01 00:05:34  2019-12-01 00:31:02   \n",
       "3          1509.0  2019-12-01 00:05:43  2019-12-01 00:30:53   \n",
       "4            81.0  2019-12-01 00:06:04  2019-12-01 00:07:26   \n",
       "...           ...                  ...                  ...   \n",
       "2272805    2656.0  2020-11-10 11:10:51  2020-11-10 11:55:07   \n",
       "2272806    1744.0  2020-11-10 13:40:56  2020-11-10 14:10:00   \n",
       "2272807     541.0  2020-11-10 13:37:16  2020-11-10 13:46:17   \n",
       "2272808     219.0  2020-11-10 15:05:42  2020-11-10 15:09:21   \n",
       "2272809     183.0  2020-11-10 14:26:31  2020-11-10 14:29:34   \n",
       "\n",
       "                         Start station                        End station  \\\n",
       "0                Maine Ave & 7th St SW                      7th & E St SW   \n",
       "1          Adams Mill & Columbia Rd NW            Park Rd & Holmead Pl NW   \n",
       "2             Calvert & Biltmore St NW  Ward Circle / American University   \n",
       "3             Calvert & Biltmore St NW  Ward Circle / American University   \n",
       "4        5th St & Massachusetts Ave NW                      5th & K St NW   \n",
       "...                                ...                                ...   \n",
       "2272805                            NaN                                NaN   \n",
       "2272806                            NaN                                NaN   \n",
       "2272807   Wisconsin Ave & Newark St NW                                NaN   \n",
       "2272808                            NaN                                NaN   \n",
       "2272809                            NaN                                NaN   \n",
       "\n",
       "        Member type        City  \n",
       "0            Member  Washington  \n",
       "1            Member  Washington  \n",
       "2            Member  Washington  \n",
       "3            Member  Washington  \n",
       "4            Member  Washington  \n",
       "...             ...         ...  \n",
       "2272805      casual  Washington  \n",
       "2272806      casual  Washington  \n",
       "2272807      casual  Washington  \n",
       "2272808      casual  Washington  \n",
       "2272809      casual  Washington  \n",
       "\n",
       "[2272810 rows x 7 columns]"
      ]
     },
     "execution_count": 25,
     "metadata": {},
     "output_type": "execute_result"
    }
   ],
   "source": [
    "w_master"
   ]
  },
  {
   "cell_type": "code",
   "execution_count": 26,
   "metadata": {},
   "outputs": [
    {
     "name": "stdout",
     "output_type": "stream",
     "text": [
      "<class 'pandas.core.frame.DataFrame'>\n",
      "RangeIndex: 2272810 entries, 0 to 2272809\n",
      "Data columns (total 7 columns):\n",
      " #   Column         Dtype  \n",
      "---  ------         -----  \n",
      " 0   Duration       float64\n",
      " 1   Start date     object \n",
      " 2   End date       object \n",
      " 3   Start station  object \n",
      " 4   End station    object \n",
      " 5   Member type    object \n",
      " 6   City           object \n",
      "dtypes: float64(1), object(6)\n",
      "memory usage: 121.4+ MB\n"
     ]
    }
   ],
   "source": [
    "w_master.info()"
   ]
  },
  {
   "cell_type": "code",
   "execution_count": 27,
   "metadata": {},
   "outputs": [],
   "source": [
    "w_master['Start date'] = pd.to_datetime(w_master['Start date'])\n",
    "w_master['End date'] = pd.to_datetime(w_master['End date'])\n",
    "w_master['Duration'] = w_master['Duration'].astype(np.int64)"
   ]
  },
  {
   "cell_type": "code",
   "execution_count": 28,
   "metadata": {},
   "outputs": [
    {
     "name": "stdout",
     "output_type": "stream",
     "text": [
      "<class 'pandas.core.frame.DataFrame'>\n",
      "RangeIndex: 2272810 entries, 0 to 2272809\n",
      "Data columns (total 7 columns):\n",
      " #   Column         Dtype         \n",
      "---  ------         -----         \n",
      " 0   Duration       int64         \n",
      " 1   Start date     datetime64[ns]\n",
      " 2   End date       datetime64[ns]\n",
      " 3   Start station  object        \n",
      " 4   End station    object        \n",
      " 5   Member type    object        \n",
      " 6   City           object        \n",
      "dtypes: datetime64[ns](2), int64(1), object(4)\n",
      "memory usage: 121.4+ MB\n"
     ]
    }
   ],
   "source": [
    "w_master.info()"
   ]
  },
  {
   "cell_type": "markdown",
   "metadata": {},
   "source": [
    "--------------------------------------"
   ]
  },
  {
   "cell_type": "code",
   "execution_count": 29,
   "metadata": {
    "scrolled": true
   },
   "outputs": [
    {
     "data": {
      "text/plain": [
       "Index(['tripduration', 'starttime', 'stoptime', 'start station id',\n",
       "       'start station name', 'start station latitude',\n",
       "       'start station longitude', 'end station id', 'end station name',\n",
       "       'end station latitude', 'end station longitude', 'bikeid', 'usertype',\n",
       "       'birth year', 'gender', 'postal code', 'city'],\n",
       "      dtype='object')"
      ]
     },
     "execution_count": 29,
     "metadata": {},
     "output_type": "execute_result"
    }
   ],
   "source": [
    "boston.columns"
   ]
  },
  {
   "cell_type": "code",
   "execution_count": 30,
   "metadata": {},
   "outputs": [],
   "source": [
    "boston.drop(['start station id', 'start station latitude','start station longitude', 'end station id',\n",
    "             'end station latitude', 'end station longitude', 'bikeid', 'birth year', 'gender', 'postal code']\n",
    "            ,axis=1, inplace=True)"
   ]
  },
  {
   "cell_type": "code",
   "execution_count": 31,
   "metadata": {},
   "outputs": [
    {
     "data": {
      "text/html": [
       "<div>\n",
       "<style scoped>\n",
       "    .dataframe tbody tr th:only-of-type {\n",
       "        vertical-align: middle;\n",
       "    }\n",
       "\n",
       "    .dataframe tbody tr th {\n",
       "        vertical-align: top;\n",
       "    }\n",
       "\n",
       "    .dataframe thead th {\n",
       "        text-align: right;\n",
       "    }\n",
       "</style>\n",
       "<table border=\"1\" class=\"dataframe\">\n",
       "  <thead>\n",
       "    <tr style=\"text-align: right;\">\n",
       "      <th></th>\n",
       "      <th>Duration</th>\n",
       "      <th>Start date</th>\n",
       "      <th>End date</th>\n",
       "      <th>Start station</th>\n",
       "      <th>End station</th>\n",
       "      <th>Member type</th>\n",
       "      <th>City</th>\n",
       "    </tr>\n",
       "  </thead>\n",
       "  <tbody>\n",
       "    <tr>\n",
       "      <th>0</th>\n",
       "      <td>790</td>\n",
       "      <td>2019-12-01 00:01:25.3240</td>\n",
       "      <td>2019-12-01 00:14:35.3350</td>\n",
       "      <td>Dartmouth St at Newbury St</td>\n",
       "      <td>Kenmore Square</td>\n",
       "      <td>Subscriber</td>\n",
       "      <td>Boston</td>\n",
       "    </tr>\n",
       "    <tr>\n",
       "      <th>1</th>\n",
       "      <td>166</td>\n",
       "      <td>2019-12-01 00:05:42.8610</td>\n",
       "      <td>2019-12-01 00:08:29.3830</td>\n",
       "      <td>MIT Stata Center at Vassar St / Main St</td>\n",
       "      <td>MIT at Mass Ave / Amherst St</td>\n",
       "      <td>Subscriber</td>\n",
       "      <td>Boston</td>\n",
       "    </tr>\n",
       "    <tr>\n",
       "      <th>2</th>\n",
       "      <td>323</td>\n",
       "      <td>2019-12-01 00:08:28.5560</td>\n",
       "      <td>2019-12-01 00:13:52.4340</td>\n",
       "      <td>Inman Square at Springfield St.</td>\n",
       "      <td>Verizon Innovation Hub 10 Ware Street</td>\n",
       "      <td>Subscriber</td>\n",
       "      <td>Boston</td>\n",
       "    </tr>\n",
       "    <tr>\n",
       "      <th>3</th>\n",
       "      <td>709</td>\n",
       "      <td>2019-12-01 00:08:38.5970</td>\n",
       "      <td>2019-12-01 00:20:27.6470</td>\n",
       "      <td>Third at Binney</td>\n",
       "      <td>Sidney Research Campus/ Erie Street at Waverly</td>\n",
       "      <td>Subscriber</td>\n",
       "      <td>Boston</td>\n",
       "    </tr>\n",
       "    <tr>\n",
       "      <th>4</th>\n",
       "      <td>332</td>\n",
       "      <td>2019-12-01 00:10:08.8160</td>\n",
       "      <td>2019-12-01 00:15:41.0510</td>\n",
       "      <td>Verizon Innovation Hub 10 Ware Street</td>\n",
       "      <td>Harvard Law School at Mass Ave / Jarvis St</td>\n",
       "      <td>Subscriber</td>\n",
       "      <td>Boston</td>\n",
       "    </tr>\n",
       "  </tbody>\n",
       "</table>\n",
       "</div>"
      ],
      "text/plain": [
       "   Duration                Start date                  End date  \\\n",
       "0       790  2019-12-01 00:01:25.3240  2019-12-01 00:14:35.3350   \n",
       "1       166  2019-12-01 00:05:42.8610  2019-12-01 00:08:29.3830   \n",
       "2       323  2019-12-01 00:08:28.5560  2019-12-01 00:13:52.4340   \n",
       "3       709  2019-12-01 00:08:38.5970  2019-12-01 00:20:27.6470   \n",
       "4       332  2019-12-01 00:10:08.8160  2019-12-01 00:15:41.0510   \n",
       "\n",
       "                             Start station  \\\n",
       "0               Dartmouth St at Newbury St   \n",
       "1  MIT Stata Center at Vassar St / Main St   \n",
       "2          Inman Square at Springfield St.   \n",
       "3                          Third at Binney   \n",
       "4    Verizon Innovation Hub 10 Ware Street   \n",
       "\n",
       "                                      End station Member type    City  \n",
       "0                                  Kenmore Square  Subscriber  Boston  \n",
       "1                    MIT at Mass Ave / Amherst St  Subscriber  Boston  \n",
       "2           Verizon Innovation Hub 10 Ware Street  Subscriber  Boston  \n",
       "3  Sidney Research Campus/ Erie Street at Waverly  Subscriber  Boston  \n",
       "4      Harvard Law School at Mass Ave / Jarvis St  Subscriber  Boston  "
      ]
     },
     "execution_count": 31,
     "metadata": {},
     "output_type": "execute_result"
    }
   ],
   "source": [
    "boston.rename(columns={'tripduration':'Duration','starttime': 'Start date', 'stoptime':'End date', \n",
    "                       'start station name': 'Start station', 'end station name':'End station',\n",
    "                       'usertype':'Member type','city': 'City'}, inplace=True)\n",
    "boston.head()"
   ]
  },
  {
   "cell_type": "code",
   "execution_count": 32,
   "metadata": {},
   "outputs": [],
   "source": [
    "boston['Start date'] = pd.to_datetime(boston['Start date'])\n",
    "boston['End date'] = pd.to_datetime(boston['End date'])"
   ]
  },
  {
   "cell_type": "code",
   "execution_count": 33,
   "metadata": {},
   "outputs": [
    {
     "name": "stdout",
     "output_type": "stream",
     "text": [
      "<class 'pandas.core.frame.DataFrame'>\n",
      "RangeIndex: 2091654 entries, 0 to 2091653\n",
      "Data columns (total 7 columns):\n",
      " #   Column         Dtype         \n",
      "---  ------         -----         \n",
      " 0   Duration       int64         \n",
      " 1   Start date     datetime64[ns]\n",
      " 2   End date       datetime64[ns]\n",
      " 3   Start station  object        \n",
      " 4   End station    object        \n",
      " 5   Member type    object        \n",
      " 6   City           object        \n",
      "dtypes: datetime64[ns](2), int64(1), object(4)\n",
      "memory usage: 111.7+ MB\n"
     ]
    }
   ],
   "source": [
    "boston.info()"
   ]
  },
  {
   "cell_type": "code",
   "execution_count": 34,
   "metadata": {},
   "outputs": [],
   "source": [
    "w_master.to_csv('master_data/washington_clean.csv', index=False)\n",
    "boston.to_csv('master_data/boston_clean.csv', index=False)"
   ]
  },
  {
   "cell_type": "markdown",
   "metadata": {},
   "source": [
    "<a id='analyse'></a>\n",
    "# Analyse and Visualise"
   ]
  },
  {
   "cell_type": "code",
   "execution_count": 2,
   "metadata": {},
   "outputs": [
    {
     "name": "stdout",
     "output_type": "stream",
     "text": [
      "<class 'pandas.core.frame.DataFrame'>\n",
      "RangeIndex: 2091654 entries, 0 to 2091653\n",
      "Data columns (total 7 columns):\n",
      " #   Column         Dtype \n",
      "---  ------         ----- \n",
      " 0   Duration       int64 \n",
      " 1   Start date     object\n",
      " 2   End date       object\n",
      " 3   Start station  object\n",
      " 4   End station    object\n",
      " 5   Member type    object\n",
      " 6   City           object\n",
      "dtypes: int64(1), object(6)\n",
      "memory usage: 111.7+ MB\n"
     ]
    }
   ],
   "source": [
    "df_b = pd.read_csv('master_data/boston_clean.csv', low_memory=False)\n",
    "df_b.info()"
   ]
  },
  {
   "cell_type": "code",
   "execution_count": 3,
   "metadata": {},
   "outputs": [
    {
     "name": "stdout",
     "output_type": "stream",
     "text": [
      "<class 'pandas.core.frame.DataFrame'>\n",
      "RangeIndex: 2272810 entries, 0 to 2272809\n",
      "Data columns (total 7 columns):\n",
      " #   Column         Dtype \n",
      "---  ------         ----- \n",
      " 0   Duration       int64 \n",
      " 1   Start date     object\n",
      " 2   End date       object\n",
      " 3   Start station  object\n",
      " 4   End station    object\n",
      " 5   Member type    object\n",
      " 6   City           object\n",
      "dtypes: int64(1), object(6)\n",
      "memory usage: 121.4+ MB\n"
     ]
    }
   ],
   "source": [
    "df_w = pd.read_csv('master_data/washington_clean.csv', low_memory=False)\n",
    "df_w.info()"
   ]
  },
  {
   "cell_type": "markdown",
   "metadata": {},
   "source": [
    "### The structure of the datasets\n",
    "\n",
    "> 1. The two data sets combined consists of 4.364.464 rows of data, which spans 2 cities (Washington & Boston) and 12 months worth of data (1 December 2019 - 30 November 2020). \n",
    "> 2. The columns Start Date and End Date were read as strings and the Dtype will need to be converted to datetime. Once converted I can analyse trends by month by city, and trends relating to duration. \n",
    "> 3. The dataset also contains data regarding to type of member. I could analyse the duration of a trip by specific type members by city. \n",
    "\n",
    "### The main features of interest in the dataset\n",
    "\n",
    "> 1. I'd like to have a look at monthly trends in the two cities. \n",
    "> 2. I'd also like to look at trip duration and see whether the trip duration is in any way related to the specific type of member. \n",
    "\n",
    "### Features in the dataset I think will help support my investigation into my features of interest\n",
    "\n",
    "> I expect to to see higher number of trips in summer vs winter. I am also expecting to see longer duration of trip in summer versus winter. I am unsure whether I'll find any significant difference in Washington vs Boston. "
   ]
  },
  {
   "cell_type": "markdown",
   "metadata": {},
   "source": [
    "## Univariate Exploration\n",
    "\n",
    "> In this section I'll have a look at the number of trips by month to see if I can discover a pattern where winter months show lower numbers than summer months. "
   ]
  },
  {
   "cell_type": "code",
   "execution_count": 4,
   "metadata": {},
   "outputs": [],
   "source": [
    "#Remove nano seconds\n",
    "df_b['Start date'] = [x.split('.')[0] for x in df_b['Start date']]\n",
    "df_b['End date'] = [x.split('.')[0] for x in df_b['End date']]"
   ]
  },
  {
   "cell_type": "code",
   "execution_count": 5,
   "metadata": {},
   "outputs": [],
   "source": [
    "#Convert Start Date and End Date to datetime\n",
    "df_b['Start date'] = pd.to_datetime(df_b['Start date'])\n",
    "df_b['End date'] = pd.to_datetime(df_b['End date'])"
   ]
  },
  {
   "cell_type": "code",
   "execution_count": 6,
   "metadata": {},
   "outputs": [],
   "source": [
    "#Create month number and name\n",
    "df_b['Start month number'] = df_b['Start date'].apply(lambda time: time.month)\n",
    "df_b['Start month name'] = df_b['Start month number'].apply(lambda x: calendar.month_abbr[x])"
   ]
  },
  {
   "cell_type": "code",
   "execution_count": 7,
   "metadata": {
    "scrolled": true
   },
   "outputs": [
    {
     "data": {
      "text/html": [
       "<div>\n",
       "<style scoped>\n",
       "    .dataframe tbody tr th:only-of-type {\n",
       "        vertical-align: middle;\n",
       "    }\n",
       "\n",
       "    .dataframe tbody tr th {\n",
       "        vertical-align: top;\n",
       "    }\n",
       "\n",
       "    .dataframe thead th {\n",
       "        text-align: right;\n",
       "    }\n",
       "</style>\n",
       "<table border=\"1\" class=\"dataframe\">\n",
       "  <thead>\n",
       "    <tr style=\"text-align: right;\">\n",
       "      <th></th>\n",
       "      <th>Duration</th>\n",
       "      <th>Start date</th>\n",
       "      <th>End date</th>\n",
       "      <th>Start station</th>\n",
       "      <th>End station</th>\n",
       "      <th>Member type</th>\n",
       "      <th>City</th>\n",
       "      <th>Start month number</th>\n",
       "      <th>Start month name</th>\n",
       "    </tr>\n",
       "  </thead>\n",
       "  <tbody>\n",
       "    <tr>\n",
       "      <th>873389</th>\n",
       "      <td>826</td>\n",
       "      <td>2020-07-07 07:40:08</td>\n",
       "      <td>2020-07-07 07:53:55</td>\n",
       "      <td>Edwards Playground - Main St at Eden St</td>\n",
       "      <td>Rowes Wharf at Atlantic Ave</td>\n",
       "      <td>Subscriber</td>\n",
       "      <td>Boston</td>\n",
       "      <td>7</td>\n",
       "      <td>Jul</td>\n",
       "    </tr>\n",
       "    <tr>\n",
       "      <th>1885707</th>\n",
       "      <td>1482</td>\n",
       "      <td>2020-10-24 09:57:40</td>\n",
       "      <td>2020-10-24 10:22:23</td>\n",
       "      <td>Northeastern University - North Parking Lot</td>\n",
       "      <td>Western Ave at Richardson St</td>\n",
       "      <td>Subscriber</td>\n",
       "      <td>Boston</td>\n",
       "      <td>10</td>\n",
       "      <td>Oct</td>\n",
       "    </tr>\n",
       "    <tr>\n",
       "      <th>1111480</th>\n",
       "      <td>253</td>\n",
       "      <td>2020-08-03 19:20:20</td>\n",
       "      <td>2020-08-03 19:24:34</td>\n",
       "      <td>Boylston St at Jersey St</td>\n",
       "      <td>Colleges of the Fenway - Fenway at Avenue Loui...</td>\n",
       "      <td>Subscriber</td>\n",
       "      <td>Boston</td>\n",
       "      <td>8</td>\n",
       "      <td>Aug</td>\n",
       "    </tr>\n",
       "    <tr>\n",
       "      <th>1322134</th>\n",
       "      <td>521</td>\n",
       "      <td>2020-08-26 15:41:00</td>\n",
       "      <td>2020-08-26 15:49:41</td>\n",
       "      <td>Beacon St at Massachusetts Ave</td>\n",
       "      <td>Newbury St at Hereford St</td>\n",
       "      <td>Subscriber</td>\n",
       "      <td>Boston</td>\n",
       "      <td>8</td>\n",
       "      <td>Aug</td>\n",
       "    </tr>\n",
       "    <tr>\n",
       "      <th>964567</th>\n",
       "      <td>618</td>\n",
       "      <td>2020-07-18 11:20:13</td>\n",
       "      <td>2020-07-18 11:30:31</td>\n",
       "      <td>HMS/HSPH - Avenue Louis Pasteur at Longwood Ave</td>\n",
       "      <td>Boylston St at Massachusetts Ave</td>\n",
       "      <td>Subscriber</td>\n",
       "      <td>Boston</td>\n",
       "      <td>7</td>\n",
       "      <td>Jul</td>\n",
       "    </tr>\n",
       "    <tr>\n",
       "      <th>50515</th>\n",
       "      <td>305</td>\n",
       "      <td>2019-12-14 12:44:49</td>\n",
       "      <td>2019-12-14 12:49:54</td>\n",
       "      <td>Commonwealth Ave At Babcock St</td>\n",
       "      <td>700 Commonwealth Ave.</td>\n",
       "      <td>Customer</td>\n",
       "      <td>Boston</td>\n",
       "      <td>12</td>\n",
       "      <td>Dec</td>\n",
       "    </tr>\n",
       "    <tr>\n",
       "      <th>408527</th>\n",
       "      <td>1094</td>\n",
       "      <td>2020-03-10 13:17:11</td>\n",
       "      <td>2020-03-10 13:35:26</td>\n",
       "      <td>The Lawn on D</td>\n",
       "      <td>Surface Rd at Summer St</td>\n",
       "      <td>Customer</td>\n",
       "      <td>Boston</td>\n",
       "      <td>3</td>\n",
       "      <td>Mar</td>\n",
       "    </tr>\n",
       "    <tr>\n",
       "      <th>657341</th>\n",
       "      <td>974</td>\n",
       "      <td>2020-06-05 19:32:26</td>\n",
       "      <td>2020-06-05 19:48:40</td>\n",
       "      <td>Sennott Park Broadway at Norfolk Street</td>\n",
       "      <td>Dartmouth St at Newbury St</td>\n",
       "      <td>Subscriber</td>\n",
       "      <td>Boston</td>\n",
       "      <td>6</td>\n",
       "      <td>Jun</td>\n",
       "    </tr>\n",
       "    <tr>\n",
       "      <th>1219179</th>\n",
       "      <td>472</td>\n",
       "      <td>2020-08-15 12:45:13</td>\n",
       "      <td>2020-08-15 12:53:05</td>\n",
       "      <td>Sidney Research Campus/Erie Street at Waverly</td>\n",
       "      <td>Commonwealth Ave at Agganis Way</td>\n",
       "      <td>Subscriber</td>\n",
       "      <td>Boston</td>\n",
       "      <td>8</td>\n",
       "      <td>Aug</td>\n",
       "    </tr>\n",
       "    <tr>\n",
       "      <th>607299</th>\n",
       "      <td>1265</td>\n",
       "      <td>2020-05-27 20:13:16</td>\n",
       "      <td>2020-05-27 20:34:21</td>\n",
       "      <td>Watermark Seaport - Boston Wharf Rd at Seaport...</td>\n",
       "      <td>Farragut Rd at E. 6th St</td>\n",
       "      <td>Subscriber</td>\n",
       "      <td>Boston</td>\n",
       "      <td>5</td>\n",
       "      <td>May</td>\n",
       "    </tr>\n",
       "  </tbody>\n",
       "</table>\n",
       "</div>"
      ],
      "text/plain": [
       "         Duration          Start date            End date  \\\n",
       "873389        826 2020-07-07 07:40:08 2020-07-07 07:53:55   \n",
       "1885707      1482 2020-10-24 09:57:40 2020-10-24 10:22:23   \n",
       "1111480       253 2020-08-03 19:20:20 2020-08-03 19:24:34   \n",
       "1322134       521 2020-08-26 15:41:00 2020-08-26 15:49:41   \n",
       "964567        618 2020-07-18 11:20:13 2020-07-18 11:30:31   \n",
       "50515         305 2019-12-14 12:44:49 2019-12-14 12:49:54   \n",
       "408527       1094 2020-03-10 13:17:11 2020-03-10 13:35:26   \n",
       "657341        974 2020-06-05 19:32:26 2020-06-05 19:48:40   \n",
       "1219179       472 2020-08-15 12:45:13 2020-08-15 12:53:05   \n",
       "607299       1265 2020-05-27 20:13:16 2020-05-27 20:34:21   \n",
       "\n",
       "                                             Start station  \\\n",
       "873389             Edwards Playground - Main St at Eden St   \n",
       "1885707        Northeastern University - North Parking Lot   \n",
       "1111480                           Boylston St at Jersey St   \n",
       "1322134                     Beacon St at Massachusetts Ave   \n",
       "964567     HMS/HSPH - Avenue Louis Pasteur at Longwood Ave   \n",
       "50515                       Commonwealth Ave At Babcock St   \n",
       "408527                                       The Lawn on D   \n",
       "657341             Sennott Park Broadway at Norfolk Street   \n",
       "1219179      Sidney Research Campus/Erie Street at Waverly   \n",
       "607299   Watermark Seaport - Boston Wharf Rd at Seaport...   \n",
       "\n",
       "                                               End station Member type  \\\n",
       "873389                         Rowes Wharf at Atlantic Ave  Subscriber   \n",
       "1885707                       Western Ave at Richardson St  Subscriber   \n",
       "1111480  Colleges of the Fenway - Fenway at Avenue Loui...  Subscriber   \n",
       "1322134                          Newbury St at Hereford St  Subscriber   \n",
       "964567                    Boylston St at Massachusetts Ave  Subscriber   \n",
       "50515                                700 Commonwealth Ave.    Customer   \n",
       "408527                             Surface Rd at Summer St    Customer   \n",
       "657341                          Dartmouth St at Newbury St  Subscriber   \n",
       "1219179                    Commonwealth Ave at Agganis Way  Subscriber   \n",
       "607299                            Farragut Rd at E. 6th St  Subscriber   \n",
       "\n",
       "           City  Start month number Start month name  \n",
       "873389   Boston                   7              Jul  \n",
       "1885707  Boston                  10              Oct  \n",
       "1111480  Boston                   8              Aug  \n",
       "1322134  Boston                   8              Aug  \n",
       "964567   Boston                   7              Jul  \n",
       "50515    Boston                  12              Dec  \n",
       "408527   Boston                   3              Mar  \n",
       "657341   Boston                   6              Jun  \n",
       "1219179  Boston                   8              Aug  \n",
       "607299   Boston                   5              May  "
      ]
     },
     "execution_count": 7,
     "metadata": {},
     "output_type": "execute_result"
    }
   ],
   "source": [
    "#Check dataframe\n",
    "df_b.sample(10)"
   ]
  },
  {
   "cell_type": "code",
   "execution_count": 8,
   "metadata": {},
   "outputs": [
    {
     "name": "stdout",
     "output_type": "stream",
     "text": [
      "<class 'pandas.core.frame.DataFrame'>\n",
      "RangeIndex: 2091654 entries, 0 to 2091653\n",
      "Data columns (total 9 columns):\n",
      " #   Column              Dtype         \n",
      "---  ------              -----         \n",
      " 0   Duration            int64         \n",
      " 1   Start date          datetime64[ns]\n",
      " 2   End date            datetime64[ns]\n",
      " 3   Start station       object        \n",
      " 4   End station         object        \n",
      " 5   Member type         object        \n",
      " 6   City                object        \n",
      " 7   Start month number  int64         \n",
      " 8   Start month name    object        \n",
      "dtypes: datetime64[ns](2), int64(2), object(5)\n",
      "memory usage: 143.6+ MB\n"
     ]
    }
   ],
   "source": [
    "df_b.info()"
   ]
  },
  {
   "cell_type": "markdown",
   "metadata": {},
   "source": [
    "Repeat steps above for Washington DataFrame"
   ]
  },
  {
   "cell_type": "code",
   "execution_count": 9,
   "metadata": {},
   "outputs": [],
   "source": [
    "#Remove nano seconds\n",
    "df_w['Start date'] = [x.split('.')[0] for x in df_w['Start date']]\n",
    "df_w['End date'] = [x.split('.')[0] for x in df_w['End date']]\n",
    "\n",
    "#Convert Start Date and End Date to datetime\n",
    "df_w['Start date'] = pd.to_datetime(df_w['Start date'])\n",
    "df_w['End date'] = pd.to_datetime(df_w['End date'])\n",
    "\n",
    "#Create month number and name\n",
    "df_w['Start month number'] = df_w['Start date'].apply(lambda time: time.month)\n",
    "df_w['Start month name'] = df_w['Start month number'].apply(lambda x: calendar.month_abbr[x])"
   ]
  },
  {
   "cell_type": "code",
   "execution_count": 10,
   "metadata": {},
   "outputs": [
    {
     "data": {
      "text/html": [
       "<div>\n",
       "<style scoped>\n",
       "    .dataframe tbody tr th:only-of-type {\n",
       "        vertical-align: middle;\n",
       "    }\n",
       "\n",
       "    .dataframe tbody tr th {\n",
       "        vertical-align: top;\n",
       "    }\n",
       "\n",
       "    .dataframe thead th {\n",
       "        text-align: right;\n",
       "    }\n",
       "</style>\n",
       "<table border=\"1\" class=\"dataframe\">\n",
       "  <thead>\n",
       "    <tr style=\"text-align: right;\">\n",
       "      <th></th>\n",
       "      <th>Duration</th>\n",
       "      <th>Start date</th>\n",
       "      <th>End date</th>\n",
       "      <th>Start station</th>\n",
       "      <th>End station</th>\n",
       "      <th>Member type</th>\n",
       "      <th>City</th>\n",
       "      <th>Start month number</th>\n",
       "      <th>Start month name</th>\n",
       "    </tr>\n",
       "  </thead>\n",
       "  <tbody>\n",
       "    <tr>\n",
       "      <th>1313182</th>\n",
       "      <td>526</td>\n",
       "      <td>2020-07-05 16:24:13</td>\n",
       "      <td>2020-07-05 16:32:59</td>\n",
       "      <td>North Capitol St &amp; F St NW</td>\n",
       "      <td>Thomas Circle</td>\n",
       "      <td>member</td>\n",
       "      <td>Washington</td>\n",
       "      <td>7</td>\n",
       "      <td>Jul</td>\n",
       "    </tr>\n",
       "    <tr>\n",
       "      <th>1611183</th>\n",
       "      <td>111</td>\n",
       "      <td>2020-08-05 16:51:09</td>\n",
       "      <td>2020-08-05 16:53:00</td>\n",
       "      <td>Lincoln Park / 13th &amp; East Capitol St NE</td>\n",
       "      <td>Lincoln Park / 13th &amp; East Capitol St NE</td>\n",
       "      <td>casual</td>\n",
       "      <td>Washington</td>\n",
       "      <td>8</td>\n",
       "      <td>Aug</td>\n",
       "    </tr>\n",
       "    <tr>\n",
       "      <th>1961125</th>\n",
       "      <td>334</td>\n",
       "      <td>2020-10-11 04:15:24</td>\n",
       "      <td>2020-10-11 04:20:58</td>\n",
       "      <td>New Hampshire Ave &amp; T St NW</td>\n",
       "      <td>20th St &amp; Florida Ave NW</td>\n",
       "      <td>member</td>\n",
       "      <td>Washington</td>\n",
       "      <td>10</td>\n",
       "      <td>Oct</td>\n",
       "    </tr>\n",
       "    <tr>\n",
       "      <th>1957185</th>\n",
       "      <td>1885</td>\n",
       "      <td>2020-10-14 10:41:56</td>\n",
       "      <td>2020-10-14 11:13:21</td>\n",
       "      <td>22nd &amp; I St NW / Foggy Bottom</td>\n",
       "      <td>3rd &amp; H St NW</td>\n",
       "      <td>member</td>\n",
       "      <td>Washington</td>\n",
       "      <td>10</td>\n",
       "      <td>Oct</td>\n",
       "    </tr>\n",
       "    <tr>\n",
       "      <th>1031481</th>\n",
       "      <td>1670</td>\n",
       "      <td>2020-06-26 23:19:17</td>\n",
       "      <td>2020-06-26 23:47:07</td>\n",
       "      <td>20th &amp; E St NW</td>\n",
       "      <td>20th &amp; E St NW</td>\n",
       "      <td>casual</td>\n",
       "      <td>Washington</td>\n",
       "      <td>6</td>\n",
       "      <td>Jun</td>\n",
       "    </tr>\n",
       "    <tr>\n",
       "      <th>932860</th>\n",
       "      <td>347</td>\n",
       "      <td>2020-06-18 19:36:33</td>\n",
       "      <td>2020-06-18 19:42:20</td>\n",
       "      <td>Connecticut Ave &amp; Newark St NW / Cleveland Park</td>\n",
       "      <td>Calvert St &amp; Woodley Pl NW</td>\n",
       "      <td>member</td>\n",
       "      <td>Washington</td>\n",
       "      <td>6</td>\n",
       "      <td>Jun</td>\n",
       "    </tr>\n",
       "    <tr>\n",
       "      <th>1484996</th>\n",
       "      <td>537</td>\n",
       "      <td>2020-08-25 08:42:30</td>\n",
       "      <td>2020-08-25 08:51:27</td>\n",
       "      <td>16th &amp; R St NW</td>\n",
       "      <td>New Hampshire Ave &amp; 24th St NW</td>\n",
       "      <td>member</td>\n",
       "      <td>Washington</td>\n",
       "      <td>8</td>\n",
       "      <td>Aug</td>\n",
       "    </tr>\n",
       "    <tr>\n",
       "      <th>1269903</th>\n",
       "      <td>257</td>\n",
       "      <td>2020-07-01 18:16:24</td>\n",
       "      <td>2020-07-01 18:20:41</td>\n",
       "      <td>National Harbor Carousel</td>\n",
       "      <td>National Harbor Carousel</td>\n",
       "      <td>casual</td>\n",
       "      <td>Washington</td>\n",
       "      <td>7</td>\n",
       "      <td>Jul</td>\n",
       "    </tr>\n",
       "    <tr>\n",
       "      <th>1631604</th>\n",
       "      <td>223</td>\n",
       "      <td>2020-09-26 09:31:53</td>\n",
       "      <td>2020-09-26 09:35:36</td>\n",
       "      <td>NaN</td>\n",
       "      <td>NaN</td>\n",
       "      <td>casual</td>\n",
       "      <td>Washington</td>\n",
       "      <td>9</td>\n",
       "      <td>Sep</td>\n",
       "    </tr>\n",
       "    <tr>\n",
       "      <th>1676532</th>\n",
       "      <td>41</td>\n",
       "      <td>2020-09-07 18:14:19</td>\n",
       "      <td>2020-09-07 18:15:00</td>\n",
       "      <td>Takoma Metro</td>\n",
       "      <td>Takoma Metro</td>\n",
       "      <td>casual</td>\n",
       "      <td>Washington</td>\n",
       "      <td>9</td>\n",
       "      <td>Sep</td>\n",
       "    </tr>\n",
       "  </tbody>\n",
       "</table>\n",
       "</div>"
      ],
      "text/plain": [
       "         Duration          Start date            End date  \\\n",
       "1313182       526 2020-07-05 16:24:13 2020-07-05 16:32:59   \n",
       "1611183       111 2020-08-05 16:51:09 2020-08-05 16:53:00   \n",
       "1961125       334 2020-10-11 04:15:24 2020-10-11 04:20:58   \n",
       "1957185      1885 2020-10-14 10:41:56 2020-10-14 11:13:21   \n",
       "1031481      1670 2020-06-26 23:19:17 2020-06-26 23:47:07   \n",
       "932860        347 2020-06-18 19:36:33 2020-06-18 19:42:20   \n",
       "1484996       537 2020-08-25 08:42:30 2020-08-25 08:51:27   \n",
       "1269903       257 2020-07-01 18:16:24 2020-07-01 18:20:41   \n",
       "1631604       223 2020-09-26 09:31:53 2020-09-26 09:35:36   \n",
       "1676532        41 2020-09-07 18:14:19 2020-09-07 18:15:00   \n",
       "\n",
       "                                           Start station  \\\n",
       "1313182                       North Capitol St & F St NW   \n",
       "1611183        Lincoln Park / 13th & East Capitol St NE    \n",
       "1961125                      New Hampshire Ave & T St NW   \n",
       "1957185                    22nd & I St NW / Foggy Bottom   \n",
       "1031481                                   20th & E St NW   \n",
       "932860   Connecticut Ave & Newark St NW / Cleveland Park   \n",
       "1484996                                   16th & R St NW   \n",
       "1269903                         National Harbor Carousel   \n",
       "1631604                                              NaN   \n",
       "1676532                                     Takoma Metro   \n",
       "\n",
       "                                       End station Member type        City  \\\n",
       "1313182                              Thomas Circle      member  Washington   \n",
       "1611183  Lincoln Park / 13th & East Capitol St NE       casual  Washington   \n",
       "1961125                   20th St & Florida Ave NW      member  Washington   \n",
       "1957185                              3rd & H St NW      member  Washington   \n",
       "1031481                             20th & E St NW      casual  Washington   \n",
       "932860                  Calvert St & Woodley Pl NW      member  Washington   \n",
       "1484996             New Hampshire Ave & 24th St NW      member  Washington   \n",
       "1269903                   National Harbor Carousel      casual  Washington   \n",
       "1631604                                        NaN      casual  Washington   \n",
       "1676532                               Takoma Metro      casual  Washington   \n",
       "\n",
       "         Start month number Start month name  \n",
       "1313182                   7              Jul  \n",
       "1611183                   8              Aug  \n",
       "1961125                  10              Oct  \n",
       "1957185                  10              Oct  \n",
       "1031481                   6              Jun  \n",
       "932860                    6              Jun  \n",
       "1484996                   8              Aug  \n",
       "1269903                   7              Jul  \n",
       "1631604                   9              Sep  \n",
       "1676532                   9              Sep  "
      ]
     },
     "execution_count": 10,
     "metadata": {},
     "output_type": "execute_result"
    }
   ],
   "source": [
    "#Check dataframe\n",
    "df_w.sample(10)"
   ]
  },
  {
   "cell_type": "code",
   "execution_count": 11,
   "metadata": {},
   "outputs": [
    {
     "name": "stdout",
     "output_type": "stream",
     "text": [
      "<class 'pandas.core.frame.DataFrame'>\n",
      "RangeIndex: 2272810 entries, 0 to 2272809\n",
      "Data columns (total 9 columns):\n",
      " #   Column              Dtype         \n",
      "---  ------              -----         \n",
      " 0   Duration            int64         \n",
      " 1   Start date          datetime64[ns]\n",
      " 2   End date            datetime64[ns]\n",
      " 3   Start station       object        \n",
      " 4   End station         object        \n",
      " 5   Member type         object        \n",
      " 6   City                object        \n",
      " 7   Start month number  int64         \n",
      " 8   Start month name    object        \n",
      "dtypes: datetime64[ns](2), int64(2), object(5)\n",
      "memory usage: 156.1+ MB\n"
     ]
    }
   ],
   "source": [
    "df_w.info()"
   ]
  },
  {
   "cell_type": "markdown",
   "metadata": {},
   "source": [
    "### Univariate Exploration for Boston"
   ]
  },
  {
   "cell_type": "code",
   "execution_count": 12,
   "metadata": {
    "scrolled": false
   },
   "outputs": [
    {
     "data": {
      "text/plain": [
       "Sep    307853\n",
       "Aug    289033\n",
       "Jul    259726\n",
       "Oct    248424\n",
       "Jun    191843\n",
       "Nov    161712\n",
       "Feb    133235\n",
       "Jan    128598\n",
       "May    124879\n",
       "Mar    107350\n",
       "Dec     92208\n",
       "Apr     46793\n",
       "Name: Start month name, dtype: int64"
      ]
     },
     "execution_count": 12,
     "metadata": {},
     "output_type": "execute_result"
    }
   ],
   "source": [
    "#Display info by month for Boston\n",
    "df_b.sort_values('Start date')\n",
    "df_b['Start month name'].value_counts()"
   ]
  },
  {
   "cell_type": "code",
   "execution_count": 13,
   "metadata": {},
   "outputs": [
    {
     "name": "stderr",
     "output_type": "stream",
     "text": [
      "C:\\ProgramData\\Anaconda3\\lib\\site-packages\\ipykernel_launcher.py:20: MatplotlibDeprecationWarning: Adding an axes using the same arguments as a previous axes currently reuses the earlier instance.  In a future version, a new instance will always be created and returned.  Meanwhile, this warning can be suppressed, and the future behavior ensured, by passing a unique label to each axes instance.\n"
     ]
    },
    {
     "data": {
      "image/png": "[encoded data removed]",
      "text/plain": [
       "<Figure size 720x576 with 1 Axes>"
      ]
     },
     "metadata": {
      "needs_background": "light"
     },
     "output_type": "display_data"
    }
   ],
   "source": [
    "#Chart for Boston\n",
    "#Asked for help to get the bars in Chronological order \n",
    "#(https://knowledge.udacity.com/questions/419539)\n",
    "plt.figure(figsize = [10, 8])\n",
    "\n",
    "\n",
    "base_colour = sns.color_palette()[0]\n",
    "splot = sns.countplot(data=df_b, x='Start month name', color=base_colour);\n",
    "\n",
    "sns.countplot(data=df_b, x='Start month name', color=base_colour); \n",
    "\n",
    "# Logic to print value on each bar\n",
    "for p in splot.patches:\n",
    "    splot.annotate(format(p.get_height()), \n",
    "                   (p.get_x() + p.get_width() / 2., p.get_height()), \n",
    "                   ha = 'center', va = 'center', \n",
    "                   xytext = (0, 9), \n",
    "                   textcoords = 'offset points')\n",
    "\n",
    "ax = plt.axes()\n",
    "ax.get_yaxis().set_major_formatter(plt.FuncFormatter(lambda x, loc: \"{:,}\".format(int(x))))\n",
    "plt.title('Boston')\n",
    "plt.xlabel('Month')   \n",
    "plt.ylabel('Number of trips');"
   ]
  },
  {
   "cell_type": "markdown",
   "metadata": {},
   "source": [
    "### Univariate Exploration for Washington"
   ]
  },
  {
   "cell_type": "code",
   "execution_count": 14,
   "metadata": {},
   "outputs": [
    {
     "data": {
      "text/plain": [
       "Aug    251543\n",
       "Sep    249872\n",
       "Oct    229796\n",
       "Jul    228302\n",
       "Jun    213995\n",
       "Jan    196969\n",
       "Feb    177901\n",
       "Nov    175789\n",
       "Mar    162530\n",
       "Dec    161878\n",
       "May    148986\n",
       "Apr     75249\n",
       "Name: Start month name, dtype: int64"
      ]
     },
     "execution_count": 14,
     "metadata": {},
     "output_type": "execute_result"
    }
   ],
   "source": [
    "#Display info by month for Washington\n",
    "df_w.sort_values('Start date')\n",
    "df_w['Start month name'].value_counts()"
   ]
  },
  {
   "cell_type": "code",
   "execution_count": 15,
   "metadata": {},
   "outputs": [
    {
     "name": "stderr",
     "output_type": "stream",
     "text": [
      "C:\\ProgramData\\Anaconda3\\lib\\site-packages\\ipykernel_launcher.py:16: MatplotlibDeprecationWarning: Adding an axes using the same arguments as a previous axes currently reuses the earlier instance.  In a future version, a new instance will always be created and returned.  Meanwhile, this warning can be suppressed, and the future behavior ensured, by passing a unique label to each axes instance.\n",
      "  app.launch_new_instance()\n"
     ]
    },
    {
     "data": {
      "image/png": "[encoded data removed]",
      "text/plain": [
       "<Figure size 720x576 with 1 Axes>"
      ]
     },
     "metadata": {
      "needs_background": "light"
     },
     "output_type": "display_data"
    }
   ],
   "source": [
    "#Chart for Washington\n",
    "plt.figure(figsize = [10, 8])\n",
    "base_colour = sns.color_palette()[0]\n",
    "splot = sns.countplot(data=df_w, x='Start month name', color=base_colour);\n",
    "\n",
    "sns.countplot(data=df_w, x='Start month name', color=base_colour); \n",
    "\n",
    "# Logic to print value on each bar\n",
    "for p in splot.patches:\n",
    "    splot.annotate(format(p.get_height()), \n",
    "                   (p.get_x() + p.get_width() / 2., p.get_height()), \n",
    "                   ha = 'center', va = 'center', \n",
    "                   xytext = (0, 9), \n",
    "                   textcoords = 'offset points')\n",
    "\n",
    "ax = plt.axes()\n",
    "ax.get_yaxis().set_major_formatter(plt.FuncFormatter(lambda x, loc: \"{:,}\".format(int(x))))\n",
    "plt.title('Washington')\n",
    "plt.xlabel('Month')   \n",
    "plt.ylabel('Number of trips');"
   ]
  },
  {
   "cell_type": "markdown",
   "metadata": {},
   "source": [
    "## Observation:\n",
    "The month of April 2020 seems to be an outlier in the data. I was expecting to see lower results in the winter months vs the summer months. It is clear that Jun through to October show the higher numbers as expected. However, April is lower than both March and May, which I did not expect to see. \n",
    "\n",
    "First, let have a look whether there is data missing from the data set for the month of April, and let's use May as a comparison. (And seperate this quick analysis by city too)"
   ]
  },
  {
   "cell_type": "code",
   "execution_count": 16,
   "metadata": {},
   "outputs": [],
   "source": [
    "df_b_april=df_b.copy()\n",
    "april = df_b['Start month name'] == 'Apr'\n",
    "df_b_april = df_b[april]\n"
   ]
  },
  {
   "cell_type": "code",
   "execution_count": 17,
   "metadata": {},
   "outputs": [
    {
     "name": "stderr",
     "output_type": "stream",
     "text": [
      "C:\\ProgramData\\Anaconda3\\lib\\site-packages\\ipykernel_launcher.py:1: SettingWithCopyWarning: \n",
      "A value is trying to be set on a copy of a slice from a DataFrame.\n",
      "Try using .loc[row_indexer,col_indexer] = value instead\n",
      "\n",
      "See the caveats in the documentation: https://pandas.pydata.org/pandas-docs/stable/user_guide/indexing.html#returning-a-view-versus-a-copy\n",
      "  \"\"\"Entry point for launching an IPython kernel.\n"
     ]
    }
   ],
   "source": [
    "df_b_april['day of month'] = df_b['Start date'].apply(lambda time: time.day)\n"
   ]
  },
  {
   "cell_type": "code",
   "execution_count": 18,
   "metadata": {},
   "outputs": [
    {
     "data": {
      "text/plain": [
       "25    4435\n",
       "19    3842\n",
       "12    2751\n",
       "11    2301\n",
       "29    2122\n",
       "23    2079\n",
       "5     2073\n",
       "4     2070\n",
       "14    2027\n",
       "7     1988\n",
       "6     1928\n",
       "28    1665\n",
       "17    1580\n",
       "15    1468\n",
       "20    1430\n",
       "16    1358\n",
       "30    1353\n",
       "8     1219\n",
       "1     1167\n",
       "10    1152\n",
       "22    1127\n",
       "26    1014\n",
       "21     846\n",
       "24     805\n",
       "2      674\n",
       "18     670\n",
       "9      586\n",
       "3      388\n",
       "27     351\n",
       "13     324\n",
       "Name: day of month, dtype: int64"
      ]
     },
     "execution_count": 18,
     "metadata": {},
     "output_type": "execute_result"
    }
   ],
   "source": [
    "df_b_april['day of month'].value_counts()"
   ]
  },
  {
   "cell_type": "code",
   "execution_count": 19,
   "metadata": {},
   "outputs": [
    {
     "data": {
      "text/plain": [
       "46793"
      ]
     },
     "execution_count": 19,
     "metadata": {},
     "output_type": "execute_result"
    }
   ],
   "source": [
    "df_b_april.shape[0]"
   ]
  },
  {
   "cell_type": "code",
   "execution_count": 20,
   "metadata": {},
   "outputs": [],
   "source": [
    "df_b_may=df_b.copy()\n",
    "may = df_b['Start month name'] == 'May'\n",
    "df_b_may = df_b[may]\n"
   ]
  },
  {
   "cell_type": "code",
   "execution_count": 21,
   "metadata": {
    "scrolled": true
   },
   "outputs": [
    {
     "data": {
      "text/plain": [
       "124879"
      ]
     },
     "execution_count": 21,
     "metadata": {},
     "output_type": "execute_result"
    }
   ],
   "source": [
    "df_b_may.shape[0]"
   ]
  },
  {
   "cell_type": "code",
   "execution_count": 22,
   "metadata": {},
   "outputs": [
    {
     "name": "stderr",
     "output_type": "stream",
     "text": [
      "C:\\ProgramData\\Anaconda3\\lib\\site-packages\\ipykernel_launcher.py:1: SettingWithCopyWarning: \n",
      "A value is trying to be set on a copy of a slice from a DataFrame.\n",
      "Try using .loc[row_indexer,col_indexer] = value instead\n",
      "\n",
      "See the caveats in the documentation: https://pandas.pydata.org/pandas-docs/stable/user_guide/indexing.html#returning-a-view-versus-a-copy\n",
      "  \"\"\"Entry point for launching an IPython kernel.\n"
     ]
    }
   ],
   "source": [
    "df_b_may['day of month'] = df_b['Start date'].apply(lambda time: time.day)\n"
   ]
  },
  {
   "cell_type": "code",
   "execution_count": 23,
   "metadata": {
    "scrolled": true
   },
   "outputs": [
    {
     "data": {
      "text/plain": [
       "31    8071\n",
       "30    7698\n",
       "3     6194\n",
       "16    6172\n",
       "22    5958\n",
       "24    5543\n",
       "27    5217\n",
       "2     5190\n",
       "26    5004\n",
       "29    4997\n",
       "17    4894\n",
       "21    4795\n",
       "28    4446\n",
       "25    4426\n",
       "14    4256\n",
       "23    3898\n",
       "20    3726\n",
       "15    3541\n",
       "19    3235\n",
       "13    2995\n",
       "7     2910\n",
       "18    2799\n",
       "10    2749\n",
       "5     2687\n",
       "4     2541\n",
       "12    2486\n",
       "6     2173\n",
       "8     2037\n",
       "1     1444\n",
       "9     1438\n",
       "11    1359\n",
       "Name: day of month, dtype: int64"
      ]
     },
     "execution_count": 23,
     "metadata": {},
     "output_type": "execute_result"
    }
   ],
   "source": [
    "df_b_may['day of month'].value_counts()"
   ]
  },
  {
   "cell_type": "code",
   "execution_count": 24,
   "metadata": {},
   "outputs": [],
   "source": [
    "df_w_april=df_w.copy()\n",
    "w_april = df_w['Start month name'] == 'Apr'\n",
    "df_w_april = df_w[w_april]\n"
   ]
  },
  {
   "cell_type": "code",
   "execution_count": 25,
   "metadata": {},
   "outputs": [
    {
     "name": "stderr",
     "output_type": "stream",
     "text": [
      "C:\\ProgramData\\Anaconda3\\lib\\site-packages\\ipykernel_launcher.py:1: SettingWithCopyWarning: \n",
      "A value is trying to be set on a copy of a slice from a DataFrame.\n",
      "Try using .loc[row_indexer,col_indexer] = value instead\n",
      "\n",
      "See the caveats in the documentation: https://pandas.pydata.org/pandas-docs/stable/user_guide/indexing.html#returning-a-view-versus-a-copy\n",
      "  \"\"\"Entry point for launching an IPython kernel.\n"
     ]
    }
   ],
   "source": [
    "df_w_april['day of month'] = df_w['Start date'].apply(lambda time: time.day)\n"
   ]
  },
  {
   "cell_type": "code",
   "execution_count": 26,
   "metadata": {
    "scrolled": true
   },
   "outputs": [
    {
     "data": {
      "text/plain": [
       "25    4712\n",
       "19    4683\n",
       "5     4437\n",
       "11    4059\n",
       "29    3743\n",
       "12    3243\n",
       "8     3195\n",
       "4     3152\n",
       "6     2864\n",
       "22    2717\n",
       "18    2632\n",
       "3     2486\n",
       "20    2319\n",
       "15    2283\n",
       "17    2174\n",
       "14    2084\n",
       "2     2080\n",
       "16    2078\n",
       "27    2045\n",
       "7     1967\n",
       "21    1905\n",
       "9     1905\n",
       "26    1833\n",
       "24    1828\n",
       "1     1763\n",
       "13    1730\n",
       "28    1683\n",
       "10    1600\n",
       "23    1272\n",
       "30     777\n",
       "Name: day of month, dtype: int64"
      ]
     },
     "execution_count": 26,
     "metadata": {},
     "output_type": "execute_result"
    }
   ],
   "source": [
    "df_w_april['day of month'].value_counts()"
   ]
  },
  {
   "cell_type": "code",
   "execution_count": 27,
   "metadata": {},
   "outputs": [
    {
     "data": {
      "text/plain": [
       "75249"
      ]
     },
     "execution_count": 27,
     "metadata": {},
     "output_type": "execute_result"
    }
   ],
   "source": [
    "df_w_april.shape[0]"
   ]
  },
  {
   "cell_type": "code",
   "execution_count": 28,
   "metadata": {},
   "outputs": [],
   "source": [
    "df_w_may=df_w.copy()\n",
    "w_may = df_w['Start month name'] == 'May'\n",
    "df_w_may = df_w[w_may]\n"
   ]
  },
  {
   "cell_type": "code",
   "execution_count": 29,
   "metadata": {
    "scrolled": true
   },
   "outputs": [
    {
     "data": {
      "text/plain": [
       "148986"
      ]
     },
     "execution_count": 29,
     "metadata": {},
     "output_type": "execute_result"
    }
   ],
   "source": [
    "df_w_may.shape[0]"
   ]
  },
  {
   "cell_type": "code",
   "execution_count": 30,
   "metadata": {},
   "outputs": [
    {
     "name": "stderr",
     "output_type": "stream",
     "text": [
      "C:\\ProgramData\\Anaconda3\\lib\\site-packages\\ipykernel_launcher.py:1: SettingWithCopyWarning: \n",
      "A value is trying to be set on a copy of a slice from a DataFrame.\n",
      "Try using .loc[row_indexer,col_indexer] = value instead\n",
      "\n",
      "See the caveats in the documentation: https://pandas.pydata.org/pandas-docs/stable/user_guide/indexing.html#returning-a-view-versus-a-copy\n",
      "  \"\"\"Entry point for launching an IPython kernel.\n"
     ]
    }
   ],
   "source": [
    "df_w_may['day of month'] = df_w['Start date'].apply(lambda time: time.day)\n"
   ]
  },
  {
   "cell_type": "code",
   "execution_count": 31,
   "metadata": {
    "scrolled": true
   },
   "outputs": [
    {
     "data": {
      "text/plain": [
       "30    10733\n",
       "23     9166\n",
       "2      9025\n",
       "16     9012\n",
       "25     8851\n",
       "31     7608\n",
       "24     6339\n",
       "10     5824\n",
       "15     5817\n",
       "17     5659\n",
       "29     5607\n",
       "26     4927\n",
       "27     4800\n",
       "13     4141\n",
       "7      3932\n",
       "21     3729\n",
       "4      3717\n",
       "3      3663\n",
       "14     3610\n",
       "28     3468\n",
       "20     3417\n",
       "19     3202\n",
       "22     3055\n",
       "12     3028\n",
       "1      2969\n",
       "18     2941\n",
       "9      2911\n",
       "5      2374\n",
       "11     2259\n",
       "8      1817\n",
       "6      1385\n",
       "Name: day of month, dtype: int64"
      ]
     },
     "execution_count": 31,
     "metadata": {},
     "output_type": "execute_result"
    }
   ],
   "source": [
    "df_w_may['day of month'].value_counts()"
   ]
  },
  {
   "cell_type": "markdown",
   "metadata": {},
   "source": [
    "## Observation\n",
    "#### Continued\n",
    "\n",
    "No data seems to be missing in this quick analysis. Without going into detail to analyse the time of day, it looks like every day has less data. \n",
    "Doing a quick google search I can find some interesing information about the weather in [Boston](https://www.bostonglobe.com/2020/04/30/metro/boston-sees-lowest-high-temperature-april-record/) and [Washington](https://www.wusa9.com/article/weather/april-2020-weather-wet-april-weather-forecast-rain-cool-wet/65-175ffc9a-ac2f-4856-9ba8-f0b49f29e966) which might be the cause for the low numbers.\n",
    "\n",
    "\n"
   ]
  },
  {
   "cell_type": "markdown",
   "metadata": {},
   "source": [
    "_________________"
   ]
  },
  {
   "cell_type": "markdown",
   "metadata": {},
   "source": [
    "## Bivariate Exploration\n",
    "\n",
    "> Does the trip duration increase in summer months? And is there a difference between the 2 cities? "
   ]
  },
  {
   "cell_type": "code",
   "execution_count": 32,
   "metadata": {},
   "outputs": [
    {
     "data": {
      "image/png": "[encoded data removed]",
      "text/plain": [
       "<Figure size 1440x720 with 2 Axes>"
      ]
     },
     "metadata": {
      "needs_background": "light"
     },
     "output_type": "display_data"
    }
   ],
   "source": [
    "\n",
    "plt.subplots(figsize=(20, 10))\n",
    "base_colour = sns.color_palette()[0]\n",
    "plt.subplot(1, 2, 1)\n",
    "sns.boxplot(x=df_b['Start month name'], y=df_b['Duration'], color = base_colour, showfliers=False, notch=True, linewidth=1.5)\n",
    "plt.title('Boston\\n', fontsize=18, weight='bold')\n",
    "plt.xlabel('\\nMonth', weight='bold')\n",
    "plt.ylabel('Duration\\n', weight='bold');\n",
    "\n",
    "plt.subplot(1, 2, 2)\n",
    "sns.boxplot(x=df_w['Start month name'], y=df_w['Duration'], color = base_colour, showfliers=False, notch=True, linewidth=1.5)\n",
    "plt.title('Washington\\n', fontsize=18, weight='bold')\n",
    "plt.xlabel('\\nMonth', weight='bold')\n",
    "plt.ylabel('Duration\\n', weight='bold');"
   ]
  },
  {
   "cell_type": "markdown",
   "metadata": {},
   "source": [
    "### Note\n",
    "Quality issue: There are negative duration times in the Washington DataFrame. "
   ]
  },
  {
   "cell_type": "code",
   "execution_count": 33,
   "metadata": {},
   "outputs": [],
   "source": [
    "#df_w.query('df_w[\"Duration\"] < 0').count()\n",
    "negative_duration = df_w[df_w.Duration<0]\n"
   ]
  },
  {
   "cell_type": "code",
   "execution_count": 34,
   "metadata": {},
   "outputs": [
    {
     "data": {
      "text/plain": [
       "<matplotlib.axes._subplots.AxesSubplot at 0x1311115f788>"
      ]
     },
     "execution_count": 34,
     "metadata": {},
     "output_type": "execute_result"
    },
    {
     "data": {
      "image/png": "[encoded data removed]",
      "text/plain": [
       "<Figure size 432x288 with 1 Axes>"
      ]
     },
     "metadata": {
      "needs_background": "light"
     },
     "output_type": "display_data"
    }
   ],
   "source": [
    "base_colour = sns.color_palette()[0]\n",
    "sns.countplot(data=negative_duration, x='Start month name', color=base_colour)"
   ]
  },
  {
   "cell_type": "code",
   "execution_count": 35,
   "metadata": {},
   "outputs": [
    {
     "data": {
      "text/plain": [
       "0.3021810006115777"
      ]
     },
     "execution_count": 35,
     "metadata": {},
     "output_type": "execute_result"
    }
   ],
   "source": [
    "(negative_duration.shape[0]/df_w.shape[0])*100"
   ]
  },
  {
   "cell_type": "markdown",
   "metadata": {},
   "source": [
    "#### Note _Continued_  \n",
    "\n",
    "0.3% of the data has negative durations. In the DataFrame the End Date (and time) is before the Start Date (and time). These rows will be dropped from the DataFrame "
   ]
  },
  {
   "cell_type": "code",
   "execution_count": 36,
   "metadata": {},
   "outputs": [],
   "source": [
    "df_w.drop(df_w[df_w.Duration<0].index, inplace = True)"
   ]
  },
  {
   "cell_type": "code",
   "execution_count": 37,
   "metadata": {},
   "outputs": [
    {
     "data": {
      "image/png": "[encoded data removed]",
      "text/plain": [
       "<Figure size 1440x720 with 2 Axes>"
      ]
     },
     "metadata": {
      "needs_background": "light"
     },
     "output_type": "display_data"
    }
   ],
   "source": [
    "plt.subplots(figsize=(20, 10))\n",
    "base_colour = sns.color_palette()[0]\n",
    "plt.subplot(1, 2, 1)\n",
    "sns.boxplot(x=df_b['Start month name'], y=df_b['Duration'], color = base_colour, showfliers=False, notch=True, linewidth=1.5)\n",
    "plt.title('Boston\\n', fontsize=18, weight='bold')\n",
    "plt.xlabel('\\nMonth', weight='bold')\n",
    "plt.ylabel('Duration\\n', weight='bold');\n",
    "\n",
    "plt.subplot(1, 2, 2)\n",
    "sns.boxplot(x=df_w['Start month name'], y=df_w['Duration'], color = base_colour, showfliers=False, notch=True, linewidth=1.5)\n",
    "plt.title('Washington\\n', fontsize=18, weight='bold')\n",
    "plt.xlabel('\\nMonth', weight='bold')\n",
    "plt.ylabel('Duration\\n', weight='bold');"
   ]
  },
  {
   "cell_type": "markdown",
   "metadata": {},
   "source": [
    "## Observation\n",
    "Both cities seem to have longer durations for their trips in the spring and summer months (Assuming April-Jun is spring, and Jul-Sep is summer). \n",
    "Although the first Univariate showed low data sets for April, the duration looks to be inline with the expectation and the trend shown in the month before and after.\n",
    "Both cities show a similar seasonal trend as I had also expected."
   ]
  },
  {
   "cell_type": "markdown",
   "metadata": {},
   "source": [
    "## Multivariate Exploration\n",
    "\n",
    "> Is there a noticeable trend in average trip duration by month and is the trip duration is in any way related to the specific type of member?"
   ]
  },
  {
   "cell_type": "code",
   "execution_count": 38,
   "metadata": {},
   "outputs": [
    {
     "data": {
      "text/plain": [
       "Member type\n",
       "Casual    38.523502\n",
       "Member    13.170394\n",
       "casual    46.971788\n",
       "member    17.782346\n",
       "Name: Duration, dtype: float64"
      ]
     },
     "execution_count": 38,
     "metadata": {},
     "output_type": "execute_result"
    }
   ],
   "source": [
    "member_type_avg = df_w.groupby('Member type').mean()['Duration']/60\n",
    "member_type_avg"
   ]
  },
  {
   "cell_type": "code",
   "execution_count": 39,
   "metadata": {},
   "outputs": [],
   "source": [
    "df_w['Member type'] = df_w['Member type'].str.capitalize()\n"
   ]
  },
  {
   "cell_type": "code",
   "execution_count": 40,
   "metadata": {},
   "outputs": [
    {
     "data": {
      "text/plain": [
       "Member type\n",
       "Casual    46.455670\n",
       "Member    15.734378\n",
       "Name: Duration, dtype: float64"
      ]
     },
     "execution_count": 40,
     "metadata": {},
     "output_type": "execute_result"
    }
   ],
   "source": [
    "member_type_avg = df_w.groupby('Member type').mean()['Duration']/60\n",
    "member_type_avg"
   ]
  },
  {
   "cell_type": "code",
   "execution_count": 41,
   "metadata": {},
   "outputs": [],
   "source": [
    "#Asked Udacity  Knowledge for assistance https://knowledge.udacity.com/questions/433584\n",
    "month_order = ['Dec','Jan','Feb','Mar','Apr','May','Jun','Jul','Aug','Sep','Oct','Nov']\n",
    "df_w['Start month name'] = pd.Categorical(df_w['Start month name'],\n",
    "                                         categories = month_order,\n",
    "                                         ordered = True)"
   ]
  },
  {
   "cell_type": "code",
   "execution_count": 42,
   "metadata": {},
   "outputs": [
    {
     "data": {
      "text/html": [
       "<div>\n",
       "<style scoped>\n",
       "    .dataframe tbody tr th:only-of-type {\n",
       "        vertical-align: middle;\n",
       "    }\n",
       "\n",
       "    .dataframe tbody tr th {\n",
       "        vertical-align: top;\n",
       "    }\n",
       "\n",
       "    .dataframe thead th {\n",
       "        text-align: right;\n",
       "    }\n",
       "</style>\n",
       "<table border=\"1\" class=\"dataframe\">\n",
       "  <thead>\n",
       "    <tr style=\"text-align: right;\">\n",
       "      <th>Member type</th>\n",
       "      <th>Casual</th>\n",
       "      <th>Member</th>\n",
       "    </tr>\n",
       "    <tr>\n",
       "      <th>Start month name</th>\n",
       "      <th></th>\n",
       "      <th></th>\n",
       "    </tr>\n",
       "  </thead>\n",
       "  <tbody>\n",
       "    <tr>\n",
       "      <th>Dec</th>\n",
       "      <td>35.863652</td>\n",
       "      <td>12.176278</td>\n",
       "    </tr>\n",
       "    <tr>\n",
       "      <th>Jan</th>\n",
       "      <td>36.090620</td>\n",
       "      <td>12.350116</td>\n",
       "    </tr>\n",
       "    <tr>\n",
       "      <th>Feb</th>\n",
       "      <td>36.001213</td>\n",
       "      <td>12.344883</td>\n",
       "    </tr>\n",
       "    <tr>\n",
       "      <th>Mar</th>\n",
       "      <td>43.471695</td>\n",
       "      <td>16.191434</td>\n",
       "    </tr>\n",
       "    <tr>\n",
       "      <th>Apr</th>\n",
       "      <td>77.642361</td>\n",
       "      <td>23.288036</td>\n",
       "    </tr>\n",
       "    <tr>\n",
       "      <th>May</th>\n",
       "      <td>61.190017</td>\n",
       "      <td>20.999573</td>\n",
       "    </tr>\n",
       "    <tr>\n",
       "      <th>Jun</th>\n",
       "      <td>55.402274</td>\n",
       "      <td>20.262678</td>\n",
       "    </tr>\n",
       "    <tr>\n",
       "      <th>Jul</th>\n",
       "      <td>46.700073</td>\n",
       "      <td>16.984113</td>\n",
       "    </tr>\n",
       "    <tr>\n",
       "      <th>Aug</th>\n",
       "      <td>42.779399</td>\n",
       "      <td>17.295742</td>\n",
       "    </tr>\n",
       "    <tr>\n",
       "      <th>Sep</th>\n",
       "      <td>40.298828</td>\n",
       "      <td>16.422949</td>\n",
       "    </tr>\n",
       "    <tr>\n",
       "      <th>Oct</th>\n",
       "      <td>37.429295</td>\n",
       "      <td>16.021054</td>\n",
       "    </tr>\n",
       "    <tr>\n",
       "      <th>Nov</th>\n",
       "      <td>39.151835</td>\n",
       "      <td>15.923959</td>\n",
       "    </tr>\n",
       "  </tbody>\n",
       "</table>\n",
       "</div>"
      ],
      "text/plain": [
       "Member type          Casual     Member\n",
       "Start month name                      \n",
       "Dec               35.863652  12.176278\n",
       "Jan               36.090620  12.350116\n",
       "Feb               36.001213  12.344883\n",
       "Mar               43.471695  16.191434\n",
       "Apr               77.642361  23.288036\n",
       "May               61.190017  20.999573\n",
       "Jun               55.402274  20.262678\n",
       "Jul               46.700073  16.984113\n",
       "Aug               42.779399  17.295742\n",
       "Sep               40.298828  16.422949\n",
       "Oct               37.429295  16.021054\n",
       "Nov               39.151835  15.923959"
      ]
     },
     "execution_count": 42,
     "metadata": {},
     "output_type": "execute_result"
    }
   ],
   "source": [
    "duration_by_month = df_w.groupby(['Member type','Start month name'])['Duration'].mean().unstack('Member type')/60\n",
    "duration_by_month"
   ]
  },
  {
   "cell_type": "code",
   "execution_count": 43,
   "metadata": {},
   "outputs": [
    {
     "data": {
      "image/png": "[encoded data removed]",
      "text/plain": [
       "<Figure size 432x288 with 1 Axes>"
      ]
     },
     "metadata": {
      "needs_background": "light"
     },
     "output_type": "display_data"
    }
   ],
   "source": [
    "duration_by_month.plot.bar(rot=0, width = 0.9)\n",
    "plt.title('Ave Duration Washington\\n', fontsize=18, weight='bold')\n",
    "plt.xlabel('\\nMonth', weight='bold')\n",
    "plt.ylabel('Duration in minutes\\n', weight='bold');"
   ]
  },
  {
   "cell_type": "markdown",
   "metadata": {},
   "source": [
    "## Observation\n",
    "All months clearly show longer durations for Casual users than Member users. This is what I expected to see, as I'd expect members to use the bike for a short commute, where casuals would use the bike to go on a leisurely bike ride. \n",
    "\n",
    "An interesting obersation is that the duration for bike rides in April is the highest for both casuals and members. This is interesting to see given that we saw earlier that the numbers of rides were very low in April. "
   ]
  },
  {
   "cell_type": "markdown",
   "metadata": {},
   "source": [
    "------------------\n",
    "Repeat the above steps for Boston"
   ]
  },
  {
   "cell_type": "code",
   "execution_count": 44,
   "metadata": {},
   "outputs": [
    {
     "data": {
      "text/plain": [
       "Member type\n",
       "Customer      67.040666\n",
       "Subscriber    16.739981\n",
       "Name: Duration, dtype: float64"
      ]
     },
     "execution_count": 44,
     "metadata": {},
     "output_type": "execute_result"
    }
   ],
   "source": [
    "member_type_avg_b = df_b.groupby('Member type').mean()['Duration']/60\n",
    "member_type_avg_b"
   ]
  },
  {
   "cell_type": "code",
   "execution_count": 45,
   "metadata": {},
   "outputs": [],
   "source": [
    "df_b['Start month name'] = pd.Categorical(df_b['Start month name'],\n",
    "                                         categories = month_order,\n",
    "                                         ordered = True)"
   ]
  },
  {
   "cell_type": "code",
   "execution_count": 46,
   "metadata": {},
   "outputs": [
    {
     "data": {
      "text/html": [
       "<div>\n",
       "<style scoped>\n",
       "    .dataframe tbody tr th:only-of-type {\n",
       "        vertical-align: middle;\n",
       "    }\n",
       "\n",
       "    .dataframe tbody tr th {\n",
       "        vertical-align: top;\n",
       "    }\n",
       "\n",
       "    .dataframe thead th {\n",
       "        text-align: right;\n",
       "    }\n",
       "</style>\n",
       "<table border=\"1\" class=\"dataframe\">\n",
       "  <thead>\n",
       "    <tr style=\"text-align: right;\">\n",
       "      <th>Member type</th>\n",
       "      <th>Customer</th>\n",
       "      <th>Subscriber</th>\n",
       "    </tr>\n",
       "    <tr>\n",
       "      <th>Start month name</th>\n",
       "      <th></th>\n",
       "      <th></th>\n",
       "    </tr>\n",
       "  </thead>\n",
       "  <tbody>\n",
       "    <tr>\n",
       "      <th>Dec</th>\n",
       "      <td>85.100645</td>\n",
       "      <td>13.538824</td>\n",
       "    </tr>\n",
       "    <tr>\n",
       "      <th>Jan</th>\n",
       "      <td>57.758925</td>\n",
       "      <td>12.665348</td>\n",
       "    </tr>\n",
       "    <tr>\n",
       "      <th>Feb</th>\n",
       "      <td>66.341282</td>\n",
       "      <td>12.713823</td>\n",
       "    </tr>\n",
       "    <tr>\n",
       "      <th>Mar</th>\n",
       "      <td>79.297712</td>\n",
       "      <td>14.987010</td>\n",
       "    </tr>\n",
       "    <tr>\n",
       "      <th>Apr</th>\n",
       "      <td>94.876171</td>\n",
       "      <td>25.789941</td>\n",
       "    </tr>\n",
       "    <tr>\n",
       "      <th>May</th>\n",
       "      <td>80.422532</td>\n",
       "      <td>22.901311</td>\n",
       "    </tr>\n",
       "    <tr>\n",
       "      <th>Jun</th>\n",
       "      <td>72.508178</td>\n",
       "      <td>20.281363</td>\n",
       "    </tr>\n",
       "    <tr>\n",
       "      <th>Jul</th>\n",
       "      <td>77.352987</td>\n",
       "      <td>18.867117</td>\n",
       "    </tr>\n",
       "    <tr>\n",
       "      <th>Aug</th>\n",
       "      <td>59.169707</td>\n",
       "      <td>18.022137</td>\n",
       "    </tr>\n",
       "    <tr>\n",
       "      <th>Sep</th>\n",
       "      <td>64.555832</td>\n",
       "      <td>16.938748</td>\n",
       "    </tr>\n",
       "    <tr>\n",
       "      <th>Oct</th>\n",
       "      <td>49.564903</td>\n",
       "      <td>15.032032</td>\n",
       "    </tr>\n",
       "    <tr>\n",
       "      <th>Nov</th>\n",
       "      <td>54.032508</td>\n",
       "      <td>15.223502</td>\n",
       "    </tr>\n",
       "  </tbody>\n",
       "</table>\n",
       "</div>"
      ],
      "text/plain": [
       "Member type        Customer  Subscriber\n",
       "Start month name                       \n",
       "Dec               85.100645   13.538824\n",
       "Jan               57.758925   12.665348\n",
       "Feb               66.341282   12.713823\n",
       "Mar               79.297712   14.987010\n",
       "Apr               94.876171   25.789941\n",
       "May               80.422532   22.901311\n",
       "Jun               72.508178   20.281363\n",
       "Jul               77.352987   18.867117\n",
       "Aug               59.169707   18.022137\n",
       "Sep               64.555832   16.938748\n",
       "Oct               49.564903   15.032032\n",
       "Nov               54.032508   15.223502"
      ]
     },
     "execution_count": 46,
     "metadata": {},
     "output_type": "execute_result"
    }
   ],
   "source": [
    "duration_by_month_b = df_b.groupby(['Member type','Start month name'])['Duration'].mean().unstack('Member type')/60\n",
    "duration_by_month_b"
   ]
  },
  {
   "cell_type": "code",
   "execution_count": 47,
   "metadata": {
    "scrolled": true
   },
   "outputs": [
    {
     "data": {
      "image/png": "[encoded data removed]",
      "text/plain": [
       "<Figure size 432x288 with 1 Axes>"
      ]
     },
     "metadata": {
      "needs_background": "light"
     },
     "output_type": "display_data"
    }
   ],
   "source": [
    "duration_by_month_b.plot.bar(rot=0, width = 0.9)\n",
    "plt.title('Ave Duration Boston\\n', fontsize=18, weight='bold')\n",
    "plt.xlabel('\\nMonth', weight='bold')\n",
    "plt.ylabel('Duration in minutes\\n', weight='bold');"
   ]
  },
  {
   "cell_type": "code",
   "execution_count": 50,
   "metadata": {},
   "outputs": [
    {
     "data": {
      "text/html": [
       "<div>\n",
       "<style scoped>\n",
       "    .dataframe tbody tr th:only-of-type {\n",
       "        vertical-align: middle;\n",
       "    }\n",
       "\n",
       "    .dataframe tbody tr th {\n",
       "        vertical-align: top;\n",
       "    }\n",
       "\n",
       "    .dataframe thead th {\n",
       "        text-align: right;\n",
       "    }\n",
       "</style>\n",
       "<table border=\"1\" class=\"dataframe\">\n",
       "  <thead>\n",
       "    <tr style=\"text-align: right;\">\n",
       "      <th>Member type</th>\n",
       "      <th>Customer</th>\n",
       "      <th>Subscriber</th>\n",
       "    </tr>\n",
       "    <tr>\n",
       "      <th>Start month name</th>\n",
       "      <th></th>\n",
       "      <th></th>\n",
       "    </tr>\n",
       "  </thead>\n",
       "  <tbody>\n",
       "    <tr>\n",
       "      <th>Dec</th>\n",
       "      <td>181.833333</td>\n",
       "      <td>1354.966667</td>\n",
       "    </tr>\n",
       "    <tr>\n",
       "      <th>Jan</th>\n",
       "      <td>239.483333</td>\n",
       "      <td>1903.816667</td>\n",
       "    </tr>\n",
       "    <tr>\n",
       "      <th>Feb</th>\n",
       "      <td>234.316667</td>\n",
       "      <td>1986.266667</td>\n",
       "    </tr>\n",
       "    <tr>\n",
       "      <th>Mar</th>\n",
       "      <td>323.016667</td>\n",
       "      <td>1466.150000</td>\n",
       "    </tr>\n",
       "    <tr>\n",
       "      <th>Apr</th>\n",
       "      <td>235.300000</td>\n",
       "      <td>544.583333</td>\n",
       "    </tr>\n",
       "    <tr>\n",
       "      <th>May</th>\n",
       "      <td>837.716667</td>\n",
       "      <td>1243.600000</td>\n",
       "    </tr>\n",
       "    <tr>\n",
       "      <th>Jun</th>\n",
       "      <td>1135.000000</td>\n",
       "      <td>2062.383333</td>\n",
       "    </tr>\n",
       "    <tr>\n",
       "      <th>Jul</th>\n",
       "      <td>1465.466667</td>\n",
       "      <td>2863.300000</td>\n",
       "    </tr>\n",
       "    <tr>\n",
       "      <th>Aug</th>\n",
       "      <td>1525.516667</td>\n",
       "      <td>3291.700000</td>\n",
       "    </tr>\n",
       "    <tr>\n",
       "      <th>Sep</th>\n",
       "      <td>1549.416667</td>\n",
       "      <td>3581.466667</td>\n",
       "    </tr>\n",
       "    <tr>\n",
       "      <th>Oct</th>\n",
       "      <td>1122.733333</td>\n",
       "      <td>3017.666667</td>\n",
       "    </tr>\n",
       "    <tr>\n",
       "      <th>Nov</th>\n",
       "      <td>650.083333</td>\n",
       "      <td>2045.116667</td>\n",
       "    </tr>\n",
       "  </tbody>\n",
       "</table>\n",
       "</div>"
      ],
      "text/plain": [
       "Member type          Customer   Subscriber\n",
       "Start month name                          \n",
       "Dec                181.833333  1354.966667\n",
       "Jan                239.483333  1903.816667\n",
       "Feb                234.316667  1986.266667\n",
       "Mar                323.016667  1466.150000\n",
       "Apr                235.300000   544.583333\n",
       "May                837.716667  1243.600000\n",
       "Jun               1135.000000  2062.383333\n",
       "Jul               1465.466667  2863.300000\n",
       "Aug               1525.516667  3291.700000\n",
       "Sep               1549.416667  3581.466667\n",
       "Oct               1122.733333  3017.666667\n",
       "Nov                650.083333  2045.116667"
      ]
     },
     "execution_count": 50,
     "metadata": {},
     "output_type": "execute_result"
    }
   ],
   "source": [
    "trips_by_month_b = df_b.groupby(['Member type','Start month name'])['Duration'].count().unstack('Member type')/60\n",
    "trips_by_month_b"
   ]
  },
  {
   "cell_type": "markdown",
   "metadata": {},
   "source": [
    "## Observation\n",
    "Similarly to Washington, all months clearly show longer durations for Customer users than Subscriber users. This is what I expected to see, as I'd expect subscribers to use the bike for a short commute, where customers (casuals) would use the bike to go on a leisurely bike ride. \n",
    "\n",
    "An interesting obersation is that the duration for bike rides in April is the highest for both casuals and members. This is interesting to see given that we saw earlier that the numbers of rides were very low in April. \n",
    "\n",
    "Also intersting that Washington __and__ Boston show this in the month of April. \n",
    "\n",
    "Also the duration for customers in December is on average over an hour. Which is intersting, assuming December is a reasonably cold month in Boston. Just to verify that result I had a look at the number of trips, to ensure only a few very long trips didn't distort the average for December. But it doesn't seem that December has an unexpected extremely low number of rides. It could be worth digging into this further and perhaps have a look at the individual durations for December for customers. (E.g. is there 1 or 2 rides that go over multiple days which would bring up the average duration for that partcilar month?)\n",
    "\n"
   ]
  },
  {
   "cell_type": "code",
   "execution_count": null,
   "metadata": {},
   "outputs": [],
   "source": []
  }
 ],
 "metadata": {
  "kernelspec": {
   "display_name": "Python 3",
   "language": "python",
   "name": "python3"
  },
  "language_info": {
   "codemirror_mode": {
    "name": "ipython",
    "version": 3
   },
   "file_extension": ".py",
   "mimetype": "text/x-python",
   "name": "python",
   "nbconvert_exporter": "python",
   "pygments_lexer": "ipython3",
   "version": "3.7.6"
  }
 },
 "nbformat": 4,
 "nbformat_minor": 2
}
